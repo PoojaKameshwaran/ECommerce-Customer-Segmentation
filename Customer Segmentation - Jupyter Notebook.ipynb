{
 "cells": [
  {
   "cell_type": "code",
   "execution_count": 3,
   "id": "3b26a093",
   "metadata": {},
   "outputs": [
    {
     "data": {
      "text/html": [
       "<div>\n",
       "<style scoped>\n",
       "    .dataframe tbody tr th:only-of-type {\n",
       "        vertical-align: middle;\n",
       "    }\n",
       "\n",
       "    .dataframe tbody tr th {\n",
       "        vertical-align: top;\n",
       "    }\n",
       "\n",
       "    .dataframe thead th {\n",
       "        text-align: right;\n",
       "    }\n",
       "</style>\n",
       "<table border=\"1\" class=\"dataframe\">\n",
       "  <thead>\n",
       "    <tr style=\"text-align: right;\">\n",
       "      <th></th>\n",
       "      <th>InvoiceNo</th>\n",
       "      <th>StockCode</th>\n",
       "      <th>Description</th>\n",
       "      <th>Quantity</th>\n",
       "      <th>InvoiceDate</th>\n",
       "      <th>UnitPrice</th>\n",
       "      <th>CustomerID</th>\n",
       "      <th>Country</th>\n",
       "    </tr>\n",
       "  </thead>\n",
       "  <tbody>\n",
       "    <tr>\n",
       "      <th>0</th>\n",
       "      <td>536365</td>\n",
       "      <td>85123A</td>\n",
       "      <td>WHITE HANGING HEART T-LIGHT HOLDER</td>\n",
       "      <td>6</td>\n",
       "      <td>12/1/2010 8:26</td>\n",
       "      <td>2.55</td>\n",
       "      <td>17850.0</td>\n",
       "      <td>United Kingdom</td>\n",
       "    </tr>\n",
       "    <tr>\n",
       "      <th>1</th>\n",
       "      <td>536365</td>\n",
       "      <td>71053</td>\n",
       "      <td>WHITE METAL LANTERN</td>\n",
       "      <td>6</td>\n",
       "      <td>12/1/2010 8:26</td>\n",
       "      <td>3.39</td>\n",
       "      <td>17850.0</td>\n",
       "      <td>United Kingdom</td>\n",
       "    </tr>\n",
       "    <tr>\n",
       "      <th>2</th>\n",
       "      <td>536365</td>\n",
       "      <td>84406B</td>\n",
       "      <td>CREAM CUPID HEARTS COAT HANGER</td>\n",
       "      <td>8</td>\n",
       "      <td>12/1/2010 8:26</td>\n",
       "      <td>2.75</td>\n",
       "      <td>17850.0</td>\n",
       "      <td>United Kingdom</td>\n",
       "    </tr>\n",
       "    <tr>\n",
       "      <th>3</th>\n",
       "      <td>536365</td>\n",
       "      <td>84029G</td>\n",
       "      <td>KNITTED UNION FLAG HOT WATER BOTTLE</td>\n",
       "      <td>6</td>\n",
       "      <td>12/1/2010 8:26</td>\n",
       "      <td>3.39</td>\n",
       "      <td>17850.0</td>\n",
       "      <td>United Kingdom</td>\n",
       "    </tr>\n",
       "    <tr>\n",
       "      <th>4</th>\n",
       "      <td>536365</td>\n",
       "      <td>84029E</td>\n",
       "      <td>RED WOOLLY HOTTIE WHITE HEART.</td>\n",
       "      <td>6</td>\n",
       "      <td>12/1/2010 8:26</td>\n",
       "      <td>3.39</td>\n",
       "      <td>17850.0</td>\n",
       "      <td>United Kingdom</td>\n",
       "    </tr>\n",
       "  </tbody>\n",
       "</table>\n",
       "</div>"
      ],
      "text/plain": [
       "  InvoiceNo StockCode                          Description  Quantity  \\\n",
       "0    536365    85123A   WHITE HANGING HEART T-LIGHT HOLDER         6   \n",
       "1    536365     71053                  WHITE METAL LANTERN         6   \n",
       "2    536365    84406B       CREAM CUPID HEARTS COAT HANGER         8   \n",
       "3    536365    84029G  KNITTED UNION FLAG HOT WATER BOTTLE         6   \n",
       "4    536365    84029E       RED WOOLLY HOTTIE WHITE HEART.         6   \n",
       "\n",
       "      InvoiceDate  UnitPrice  CustomerID         Country  \n",
       "0  12/1/2010 8:26       2.55     17850.0  United Kingdom  \n",
       "1  12/1/2010 8:26       3.39     17850.0  United Kingdom  \n",
       "2  12/1/2010 8:26       2.75     17850.0  United Kingdom  \n",
       "3  12/1/2010 8:26       3.39     17850.0  United Kingdom  \n",
       "4  12/1/2010 8:26       3.39     17850.0  United Kingdom  "
      ]
     },
     "execution_count": 3,
     "metadata": {},
     "output_type": "execute_result"
    }
   ],
   "source": [
    "import pandas as pd\n",
    "\n",
    "customer_df = pd.read_csv('archive/data.csv')\n",
    "customer_df.head()"
   ]
  },
  {
   "cell_type": "markdown",
   "id": "8346199b",
   "metadata": {},
   "source": [
    "## Data Preprocessing & Overview\n",
    "\n",
    "The upcoming cells provide an overview of the data, make some initial data cleaning, formatting and arrangement for further analysis."
   ]
  },
  {
   "cell_type": "code",
   "execution_count": 9,
   "id": "8552de81",
   "metadata": {},
   "outputs": [
    {
     "name": "stdout",
     "output_type": "stream",
     "text": [
      "The Number of Rows in the Dataset 541909\n",
      "The Number of Columns in the Dataset 8\n"
     ]
    }
   ],
   "source": [
    "# Displaying the number of Rows and Columns\n",
    "\n",
    "print(\"The Number of Rows in the Dataset\", customer_df.shape[0])\n",
    "print(\"The Number of Columns in the Dataset\", customer_df.shape[1])"
   ]
  },
  {
   "cell_type": "code",
   "execution_count": 10,
   "id": "120f0412",
   "metadata": {},
   "outputs": [
    {
     "data": {
      "text/html": [
       "<div>\n",
       "<style scoped>\n",
       "    .dataframe tbody tr th:only-of-type {\n",
       "        vertical-align: middle;\n",
       "    }\n",
       "\n",
       "    .dataframe tbody tr th {\n",
       "        vertical-align: top;\n",
       "    }\n",
       "\n",
       "    .dataframe thead th {\n",
       "        text-align: right;\n",
       "    }\n",
       "</style>\n",
       "<table border=\"1\" class=\"dataframe\">\n",
       "  <thead>\n",
       "    <tr style=\"text-align: right;\">\n",
       "      <th></th>\n",
       "      <th>Quantity</th>\n",
       "      <th>UnitPrice</th>\n",
       "      <th>CustomerID</th>\n",
       "    </tr>\n",
       "  </thead>\n",
       "  <tbody>\n",
       "    <tr>\n",
       "      <th>count</th>\n",
       "      <td>541909.000000</td>\n",
       "      <td>541909.000000</td>\n",
       "      <td>406829.000000</td>\n",
       "    </tr>\n",
       "    <tr>\n",
       "      <th>mean</th>\n",
       "      <td>9.552250</td>\n",
       "      <td>4.611114</td>\n",
       "      <td>15287.690570</td>\n",
       "    </tr>\n",
       "    <tr>\n",
       "      <th>std</th>\n",
       "      <td>218.081158</td>\n",
       "      <td>96.759853</td>\n",
       "      <td>1713.600303</td>\n",
       "    </tr>\n",
       "    <tr>\n",
       "      <th>min</th>\n",
       "      <td>-80995.000000</td>\n",
       "      <td>-11062.060000</td>\n",
       "      <td>12346.000000</td>\n",
       "    </tr>\n",
       "    <tr>\n",
       "      <th>25%</th>\n",
       "      <td>1.000000</td>\n",
       "      <td>1.250000</td>\n",
       "      <td>13953.000000</td>\n",
       "    </tr>\n",
       "    <tr>\n",
       "      <th>50%</th>\n",
       "      <td>3.000000</td>\n",
       "      <td>2.080000</td>\n",
       "      <td>15152.000000</td>\n",
       "    </tr>\n",
       "    <tr>\n",
       "      <th>75%</th>\n",
       "      <td>10.000000</td>\n",
       "      <td>4.130000</td>\n",
       "      <td>16791.000000</td>\n",
       "    </tr>\n",
       "    <tr>\n",
       "      <th>max</th>\n",
       "      <td>80995.000000</td>\n",
       "      <td>38970.000000</td>\n",
       "      <td>18287.000000</td>\n",
       "    </tr>\n",
       "  </tbody>\n",
       "</table>\n",
       "</div>"
      ],
      "text/plain": [
       "            Quantity      UnitPrice     CustomerID\n",
       "count  541909.000000  541909.000000  406829.000000\n",
       "mean        9.552250       4.611114   15287.690570\n",
       "std       218.081158      96.759853    1713.600303\n",
       "min    -80995.000000  -11062.060000   12346.000000\n",
       "25%         1.000000       1.250000   13953.000000\n",
       "50%         3.000000       2.080000   15152.000000\n",
       "75%        10.000000       4.130000   16791.000000\n",
       "max     80995.000000   38970.000000   18287.000000"
      ]
     },
     "execution_count": 10,
     "metadata": {},
     "output_type": "execute_result"
    }
   ],
   "source": [
    "# Dataset Summary\n",
    "\n",
    "customer_df.describe()"
   ]
  },
  {
   "cell_type": "code",
   "execution_count": 11,
   "id": "8fdf9aa7",
   "metadata": {},
   "outputs": [
    {
     "data": {
      "text/plain": [
       "InvoiceNo           0\n",
       "StockCode           0\n",
       "Description      1454\n",
       "Quantity            0\n",
       "InvoiceDate         0\n",
       "UnitPrice           0\n",
       "CustomerID     135080\n",
       "Country             0\n",
       "dtype: int64"
      ]
     },
     "execution_count": 11,
     "metadata": {},
     "output_type": "execute_result"
    }
   ],
   "source": [
    "# Checking for Null Values\n",
    "\n",
    "customer_df.isna().sum()"
   ]
  },
  {
   "cell_type": "code",
   "execution_count": 21,
   "id": "42544ac2",
   "metadata": {},
   "outputs": [],
   "source": [
    "# Null value handling\n",
    "\n",
    "# From the Description above we can see that Description and CustomerID contain null values\n",
    "\n",
    "customer_df['Description'] = customer_df['Description'].fillna('Description N/A')\n",
    "customer_df['CustomerID'] = customer_df['CustomerID'].fillna(0.0)"
   ]
  },
  {
   "cell_type": "code",
   "execution_count": 25,
   "id": "d8a90eaa",
   "metadata": {},
   "outputs": [
    {
     "data": {
      "text/html": [
       "<div>\n",
       "<style scoped>\n",
       "    .dataframe tbody tr th:only-of-type {\n",
       "        vertical-align: middle;\n",
       "    }\n",
       "\n",
       "    .dataframe tbody tr th {\n",
       "        vertical-align: top;\n",
       "    }\n",
       "\n",
       "    .dataframe thead th {\n",
       "        text-align: right;\n",
       "    }\n",
       "</style>\n",
       "<table border=\"1\" class=\"dataframe\">\n",
       "  <thead>\n",
       "    <tr style=\"text-align: right;\">\n",
       "      <th></th>\n",
       "      <th>InvoiceNo</th>\n",
       "      <th>StockCode</th>\n",
       "      <th>Description</th>\n",
       "      <th>Quantity</th>\n",
       "      <th>InvoiceDate</th>\n",
       "      <th>UnitPrice</th>\n",
       "      <th>CustomerID</th>\n",
       "      <th>Country</th>\n",
       "    </tr>\n",
       "  </thead>\n",
       "  <tbody>\n",
       "    <tr>\n",
       "      <th>0</th>\n",
       "      <td>536365</td>\n",
       "      <td>85123A</td>\n",
       "      <td>WHITE HANGING HEART T-LIGHT HOLDER</td>\n",
       "      <td>6</td>\n",
       "      <td>2010-12-01 08:26:00</td>\n",
       "      <td>2.55</td>\n",
       "      <td>17850</td>\n",
       "      <td>United Kingdom</td>\n",
       "    </tr>\n",
       "    <tr>\n",
       "      <th>1</th>\n",
       "      <td>536365</td>\n",
       "      <td>71053</td>\n",
       "      <td>WHITE METAL LANTERN</td>\n",
       "      <td>6</td>\n",
       "      <td>2010-12-01 08:26:00</td>\n",
       "      <td>3.39</td>\n",
       "      <td>17850</td>\n",
       "      <td>United Kingdom</td>\n",
       "    </tr>\n",
       "    <tr>\n",
       "      <th>2</th>\n",
       "      <td>536365</td>\n",
       "      <td>84406B</td>\n",
       "      <td>CREAM CUPID HEARTS COAT HANGER</td>\n",
       "      <td>8</td>\n",
       "      <td>2010-12-01 08:26:00</td>\n",
       "      <td>2.75</td>\n",
       "      <td>17850</td>\n",
       "      <td>United Kingdom</td>\n",
       "    </tr>\n",
       "    <tr>\n",
       "      <th>3</th>\n",
       "      <td>536365</td>\n",
       "      <td>84029G</td>\n",
       "      <td>KNITTED UNION FLAG HOT WATER BOTTLE</td>\n",
       "      <td>6</td>\n",
       "      <td>2010-12-01 08:26:00</td>\n",
       "      <td>3.39</td>\n",
       "      <td>17850</td>\n",
       "      <td>United Kingdom</td>\n",
       "    </tr>\n",
       "    <tr>\n",
       "      <th>4</th>\n",
       "      <td>536365</td>\n",
       "      <td>84029E</td>\n",
       "      <td>RED WOOLLY HOTTIE WHITE HEART.</td>\n",
       "      <td>6</td>\n",
       "      <td>2010-12-01 08:26:00</td>\n",
       "      <td>3.39</td>\n",
       "      <td>17850</td>\n",
       "      <td>United Kingdom</td>\n",
       "    </tr>\n",
       "    <tr>\n",
       "      <th>...</th>\n",
       "      <td>...</td>\n",
       "      <td>...</td>\n",
       "      <td>...</td>\n",
       "      <td>...</td>\n",
       "      <td>...</td>\n",
       "      <td>...</td>\n",
       "      <td>...</td>\n",
       "      <td>...</td>\n",
       "    </tr>\n",
       "    <tr>\n",
       "      <th>541904</th>\n",
       "      <td>581587</td>\n",
       "      <td>22613</td>\n",
       "      <td>PACK OF 20 SPACEBOY NAPKINS</td>\n",
       "      <td>12</td>\n",
       "      <td>2011-12-09 12:50:00</td>\n",
       "      <td>0.85</td>\n",
       "      <td>12680</td>\n",
       "      <td>France</td>\n",
       "    </tr>\n",
       "    <tr>\n",
       "      <th>541905</th>\n",
       "      <td>581587</td>\n",
       "      <td>22899</td>\n",
       "      <td>CHILDREN'S APRON DOLLY GIRL</td>\n",
       "      <td>6</td>\n",
       "      <td>2011-12-09 12:50:00</td>\n",
       "      <td>2.10</td>\n",
       "      <td>12680</td>\n",
       "      <td>France</td>\n",
       "    </tr>\n",
       "    <tr>\n",
       "      <th>541906</th>\n",
       "      <td>581587</td>\n",
       "      <td>23254</td>\n",
       "      <td>CHILDRENS CUTLERY DOLLY GIRL</td>\n",
       "      <td>4</td>\n",
       "      <td>2011-12-09 12:50:00</td>\n",
       "      <td>4.15</td>\n",
       "      <td>12680</td>\n",
       "      <td>France</td>\n",
       "    </tr>\n",
       "    <tr>\n",
       "      <th>541907</th>\n",
       "      <td>581587</td>\n",
       "      <td>23255</td>\n",
       "      <td>CHILDRENS CUTLERY CIRCUS PARADE</td>\n",
       "      <td>4</td>\n",
       "      <td>2011-12-09 12:50:00</td>\n",
       "      <td>4.15</td>\n",
       "      <td>12680</td>\n",
       "      <td>France</td>\n",
       "    </tr>\n",
       "    <tr>\n",
       "      <th>541908</th>\n",
       "      <td>581587</td>\n",
       "      <td>22138</td>\n",
       "      <td>BAKING SET 9 PIECE RETROSPOT</td>\n",
       "      <td>3</td>\n",
       "      <td>2011-12-09 12:50:00</td>\n",
       "      <td>4.95</td>\n",
       "      <td>12680</td>\n",
       "      <td>France</td>\n",
       "    </tr>\n",
       "  </tbody>\n",
       "</table>\n",
       "<p>541909 rows × 8 columns</p>\n",
       "</div>"
      ],
      "text/plain": [
       "       InvoiceNo StockCode                          Description  Quantity  \\\n",
       "0         536365    85123A   WHITE HANGING HEART T-LIGHT HOLDER         6   \n",
       "1         536365     71053                  WHITE METAL LANTERN         6   \n",
       "2         536365    84406B       CREAM CUPID HEARTS COAT HANGER         8   \n",
       "3         536365    84029G  KNITTED UNION FLAG HOT WATER BOTTLE         6   \n",
       "4         536365    84029E       RED WOOLLY HOTTIE WHITE HEART.         6   \n",
       "...          ...       ...                                  ...       ...   \n",
       "541904    581587     22613          PACK OF 20 SPACEBOY NAPKINS        12   \n",
       "541905    581587     22899         CHILDREN'S APRON DOLLY GIRL          6   \n",
       "541906    581587     23254        CHILDRENS CUTLERY DOLLY GIRL          4   \n",
       "541907    581587     23255      CHILDRENS CUTLERY CIRCUS PARADE         4   \n",
       "541908    581587     22138        BAKING SET 9 PIECE RETROSPOT          3   \n",
       "\n",
       "               InvoiceDate  UnitPrice  CustomerID         Country  \n",
       "0      2010-12-01 08:26:00       2.55       17850  United Kingdom  \n",
       "1      2010-12-01 08:26:00       3.39       17850  United Kingdom  \n",
       "2      2010-12-01 08:26:00       2.75       17850  United Kingdom  \n",
       "3      2010-12-01 08:26:00       3.39       17850  United Kingdom  \n",
       "4      2010-12-01 08:26:00       3.39       17850  United Kingdom  \n",
       "...                    ...        ...         ...             ...  \n",
       "541904 2011-12-09 12:50:00       0.85       12680          France  \n",
       "541905 2011-12-09 12:50:00       2.10       12680          France  \n",
       "541906 2011-12-09 12:50:00       4.15       12680          France  \n",
       "541907 2011-12-09 12:50:00       4.15       12680          France  \n",
       "541908 2011-12-09 12:50:00       4.95       12680          France  \n",
       "\n",
       "[541909 rows x 8 columns]"
      ]
     },
     "execution_count": 25,
     "metadata": {},
     "output_type": "execute_result"
    }
   ],
   "source": [
    "# Datatype Handling\n",
    "from datetime import datetime as dt\n",
    "\n",
    "customer_df['CustomerID'] = customer_df['CustomerID'].astype(int)\n",
    "customer_df['InvoiceDate'] = pd.to_datetime(customer_df['InvoiceDate'])\n",
    "\n",
    "customer_df"
   ]
  },
  {
   "cell_type": "code",
   "execution_count": 23,
   "id": "206f1a5b",
   "metadata": {},
   "outputs": [
    {
     "name": "stdout",
     "output_type": "stream",
     "text": [
      "<class 'pandas.core.frame.DataFrame'>\n",
      "RangeIndex: 541909 entries, 0 to 541908\n",
      "Data columns (total 8 columns):\n",
      " #   Column       Non-Null Count   Dtype         \n",
      "---  ------       --------------   -----         \n",
      " 0   InvoiceNo    541909 non-null  object        \n",
      " 1   StockCode    541909 non-null  object        \n",
      " 2   Description  541909 non-null  object        \n",
      " 3   Quantity     541909 non-null  int64         \n",
      " 4   InvoiceDate  541909 non-null  datetime64[ns]\n",
      " 5   UnitPrice    541909 non-null  float64       \n",
      " 6   CustomerID   541909 non-null  int32         \n",
      " 7   Country      541909 non-null  object        \n",
      "dtypes: datetime64[ns](1), float64(1), int32(1), int64(1), object(4)\n",
      "memory usage: 31.0+ MB\n"
     ]
    }
   ],
   "source": [
    "# Dataset Description\n",
    "\n",
    "customer_df.info()"
   ]
  },
  {
   "cell_type": "code",
   "execution_count": 8,
   "id": "a1a26e2d",
   "metadata": {},
   "outputs": [
    {
     "name": "stdout",
     "output_type": "stream",
     "text": [
      "The Invoice Data lies between  2010-12-01 08:26:00  and  2011-12-09 12:50:00\n"
     ]
    }
   ],
   "source": [
    "# Invoice Date Limits\n",
    "\n",
    "print(\"The Invoice Data lies between \", customer_df.InvoiceDate.min(),\\\n",
    "      \" and \", customer_df.InvoiceDate.max())"
   ]
  },
  {
   "cell_type": "markdown",
   "id": "a41c1153",
   "metadata": {},
   "source": [
    "## RFM Calculation"
   ]
  },
  {
   "cell_type": "markdown",
   "id": "1cc03a9c",
   "metadata": {},
   "source": [
    "### Recency Calculation:\n",
    "\n",
    "How recently a customer made a purchase. Calculate the number of days since the customer's last purchase."
   ]
  },
  {
   "cell_type": "code",
   "execution_count": 9,
   "id": "26bcfe67",
   "metadata": {},
   "outputs": [
    {
     "data": {
      "text/html": [
       "<div>\n",
       "<style scoped>\n",
       "    .dataframe tbody tr th:only-of-type {\n",
       "        vertical-align: middle;\n",
       "    }\n",
       "\n",
       "    .dataframe tbody tr th {\n",
       "        vertical-align: top;\n",
       "    }\n",
       "\n",
       "    .dataframe thead th {\n",
       "        text-align: right;\n",
       "    }\n",
       "</style>\n",
       "<table border=\"1\" class=\"dataframe\">\n",
       "  <thead>\n",
       "    <tr style=\"text-align: right;\">\n",
       "      <th></th>\n",
       "      <th>CustomerID</th>\n",
       "      <th>DaysSinceLastPurchase</th>\n",
       "    </tr>\n",
       "  </thead>\n",
       "  <tbody>\n",
       "    <tr>\n",
       "      <th>0</th>\n",
       "      <td>0</td>\n",
       "      <td>0</td>\n",
       "    </tr>\n",
       "    <tr>\n",
       "      <th>1</th>\n",
       "      <td>12346</td>\n",
       "      <td>325</td>\n",
       "    </tr>\n",
       "    <tr>\n",
       "      <th>2</th>\n",
       "      <td>12347</td>\n",
       "      <td>1</td>\n",
       "    </tr>\n",
       "    <tr>\n",
       "      <th>3</th>\n",
       "      <td>12348</td>\n",
       "      <td>74</td>\n",
       "    </tr>\n",
       "    <tr>\n",
       "      <th>4</th>\n",
       "      <td>12349</td>\n",
       "      <td>18</td>\n",
       "    </tr>\n",
       "  </tbody>\n",
       "</table>\n",
       "</div>"
      ],
      "text/plain": [
       "   CustomerID  DaysSinceLastPurchase\n",
       "0           0                      0\n",
       "1       12346                    325\n",
       "2       12347                      1\n",
       "3       12348                     74\n",
       "4       12349                     18"
      ]
     },
     "execution_count": 9,
     "metadata": {},
     "output_type": "execute_result"
    }
   ],
   "source": [
    "# Calculating the most recent date in the dataset\n",
    "most_recent_date = customer_df['InvoiceDate'].max()\n",
    "\n",
    "# Calculating the difference between the order date and the most recent date\n",
    "customer_df['DaysSinceLastPurchase'] = \\\n",
    "(most_recent_date - customer_df.groupby('CustomerID')['InvoiceDate'].transform('max')).dt.days\n",
    "\n",
    "recency_df = customer_df.groupby('CustomerID')['DaysSinceLastPurchase'].min().reset_index()\n",
    "\n",
    "recency_df.head()\n"
   ]
  },
  {
   "cell_type": "markdown",
   "id": "4ba3d2bf",
   "metadata": {},
   "source": [
    "### Frequency\n",
    "\n",
    "How often a customer makes a purchase. Calculate the total number of orders for each customer"
   ]
  },
  {
   "cell_type": "code",
   "execution_count": 10,
   "id": "5872363f",
   "metadata": {},
   "outputs": [
    {
     "data": {
      "text/html": [
       "<div>\n",
       "<style scoped>\n",
       "    .dataframe tbody tr th:only-of-type {\n",
       "        vertical-align: middle;\n",
       "    }\n",
       "\n",
       "    .dataframe tbody tr th {\n",
       "        vertical-align: top;\n",
       "    }\n",
       "\n",
       "    .dataframe thead th {\n",
       "        text-align: right;\n",
       "    }\n",
       "</style>\n",
       "<table border=\"1\" class=\"dataframe\">\n",
       "  <thead>\n",
       "    <tr style=\"text-align: right;\">\n",
       "      <th></th>\n",
       "      <th>CustomerID</th>\n",
       "      <th>Frequency</th>\n",
       "    </tr>\n",
       "  </thead>\n",
       "  <tbody>\n",
       "    <tr>\n",
       "      <th>0</th>\n",
       "      <td>0</td>\n",
       "      <td>3710</td>\n",
       "    </tr>\n",
       "    <tr>\n",
       "      <th>1</th>\n",
       "      <td>12346</td>\n",
       "      <td>2</td>\n",
       "    </tr>\n",
       "    <tr>\n",
       "      <th>2</th>\n",
       "      <td>12347</td>\n",
       "      <td>7</td>\n",
       "    </tr>\n",
       "    <tr>\n",
       "      <th>3</th>\n",
       "      <td>12348</td>\n",
       "      <td>4</td>\n",
       "    </tr>\n",
       "    <tr>\n",
       "      <th>4</th>\n",
       "      <td>12349</td>\n",
       "      <td>1</td>\n",
       "    </tr>\n",
       "  </tbody>\n",
       "</table>\n",
       "</div>"
      ],
      "text/plain": [
       "   CustomerID  Frequency\n",
       "0           0       3710\n",
       "1       12346          2\n",
       "2       12347          7\n",
       "3       12348          4\n",
       "4       12349          1"
      ]
     },
     "execution_count": 10,
     "metadata": {},
     "output_type": "execute_result"
    }
   ],
   "source": [
    "# Grouping by CustomerID and using count to get the Frequency of orders made by each Customer\n",
    "\n",
    "frequency_df = customer_df.groupby('CustomerID')['InvoiceNo'].nunique().reset_index()\n",
    "frequency_df.columns = ['CustomerID', 'Frequency']\n",
    "\n",
    "frequency_df.head()"
   ]
  },
  {
   "cell_type": "markdown",
   "id": "0b46e3ec",
   "metadata": {},
   "source": [
    "### Monetary\n",
    "The total monetary value of a customer's purchases. Calculate the sum of the total price for each customer"
   ]
  },
  {
   "cell_type": "code",
   "execution_count": 11,
   "id": "9557db4c",
   "metadata": {},
   "outputs": [
    {
     "data": {
      "text/html": [
       "<div>\n",
       "<style scoped>\n",
       "    .dataframe tbody tr th:only-of-type {\n",
       "        vertical-align: middle;\n",
       "    }\n",
       "\n",
       "    .dataframe tbody tr th {\n",
       "        vertical-align: top;\n",
       "    }\n",
       "\n",
       "    .dataframe thead th {\n",
       "        text-align: right;\n",
       "    }\n",
       "</style>\n",
       "<table border=\"1\" class=\"dataframe\">\n",
       "  <thead>\n",
       "    <tr style=\"text-align: right;\">\n",
       "      <th></th>\n",
       "      <th>CustomerID</th>\n",
       "      <th>Monetary</th>\n",
       "    </tr>\n",
       "  </thead>\n",
       "  <tbody>\n",
       "    <tr>\n",
       "      <th>0</th>\n",
       "      <td>0</td>\n",
       "      <td>1447682.12</td>\n",
       "    </tr>\n",
       "    <tr>\n",
       "      <th>1</th>\n",
       "      <td>12346</td>\n",
       "      <td>0.00</td>\n",
       "    </tr>\n",
       "    <tr>\n",
       "      <th>2</th>\n",
       "      <td>12347</td>\n",
       "      <td>4310.00</td>\n",
       "    </tr>\n",
       "    <tr>\n",
       "      <th>3</th>\n",
       "      <td>12348</td>\n",
       "      <td>1797.24</td>\n",
       "    </tr>\n",
       "    <tr>\n",
       "      <th>4</th>\n",
       "      <td>12349</td>\n",
       "      <td>1757.55</td>\n",
       "    </tr>\n",
       "  </tbody>\n",
       "</table>\n",
       "</div>"
      ],
      "text/plain": [
       "   CustomerID    Monetary\n",
       "0           0  1447682.12\n",
       "1       12346        0.00\n",
       "2       12347     4310.00\n",
       "3       12348     1797.24\n",
       "4       12349     1757.55"
      ]
     },
     "execution_count": 11,
     "metadata": {},
     "output_type": "execute_result"
    }
   ],
   "source": [
    "# Calculating the Monetary value by getting the product of each UnitPrice and Quantity mentioned in an order\n",
    "\n",
    "customer_df['TotalPrice'] = customer_df['Quantity'] * customer_df['UnitPrice']\n",
    "monetary_df = customer_df.groupby('CustomerID')['TotalPrice'].sum().reset_index()\n",
    "monetary_df.columns = ['CustomerID', 'Monetary']\n",
    "\n",
    "monetary_df.head()"
   ]
  },
  {
   "cell_type": "markdown",
   "id": "fa44017f",
   "metadata": {},
   "source": [
    "## RFM Segmentation\n",
    "\n",
    "Calculating R_Score, F_Score and M_Score for every Customer. These scores are then combined to get the RFM Score for each customer. \n"
   ]
  },
  {
   "cell_type": "code",
   "execution_count": 12,
   "id": "60424f4c",
   "metadata": {},
   "outputs": [
    {
     "data": {
      "text/html": [
       "<div>\n",
       "<style scoped>\n",
       "    .dataframe tbody tr th:only-of-type {\n",
       "        vertical-align: middle;\n",
       "    }\n",
       "\n",
       "    .dataframe tbody tr th {\n",
       "        vertical-align: top;\n",
       "    }\n",
       "\n",
       "    .dataframe thead th {\n",
       "        text-align: right;\n",
       "    }\n",
       "</style>\n",
       "<table border=\"1\" class=\"dataframe\">\n",
       "  <thead>\n",
       "    <tr style=\"text-align: right;\">\n",
       "      <th></th>\n",
       "      <th>CustomerID</th>\n",
       "      <th>DaysSinceLastPurchase</th>\n",
       "      <th>R_Score</th>\n",
       "    </tr>\n",
       "  </thead>\n",
       "  <tbody>\n",
       "    <tr>\n",
       "      <th>0</th>\n",
       "      <td>0</td>\n",
       "      <td>0</td>\n",
       "      <td>1</td>\n",
       "    </tr>\n",
       "    <tr>\n",
       "      <th>4126</th>\n",
       "      <td>17949</td>\n",
       "      <td>0</td>\n",
       "      <td>1</td>\n",
       "    </tr>\n",
       "    <tr>\n",
       "      <th>1128</th>\n",
       "      <td>13860</td>\n",
       "      <td>0</td>\n",
       "      <td>1</td>\n",
       "    </tr>\n",
       "    <tr>\n",
       "      <th>3114</th>\n",
       "      <td>16558</td>\n",
       "      <td>0</td>\n",
       "      <td>1</td>\n",
       "    </tr>\n",
       "    <tr>\n",
       "      <th>3163</th>\n",
       "      <td>16626</td>\n",
       "      <td>0</td>\n",
       "      <td>1</td>\n",
       "    </tr>\n",
       "    <tr>\n",
       "      <th>...</th>\n",
       "      <td>...</td>\n",
       "      <td>...</td>\n",
       "      <td>...</td>\n",
       "    </tr>\n",
       "    <tr>\n",
       "      <th>360</th>\n",
       "      <td>12791</td>\n",
       "      <td>373</td>\n",
       "      <td>4</td>\n",
       "    </tr>\n",
       "    <tr>\n",
       "      <th>4213</th>\n",
       "      <td>18074</td>\n",
       "      <td>373</td>\n",
       "      <td>4</td>\n",
       "    </tr>\n",
       "    <tr>\n",
       "      <th>1047</th>\n",
       "      <td>13747</td>\n",
       "      <td>373</td>\n",
       "      <td>4</td>\n",
       "    </tr>\n",
       "    <tr>\n",
       "      <th>1765</th>\n",
       "      <td>14729</td>\n",
       "      <td>373</td>\n",
       "      <td>4</td>\n",
       "    </tr>\n",
       "    <tr>\n",
       "      <th>4097</th>\n",
       "      <td>17908</td>\n",
       "      <td>373</td>\n",
       "      <td>4</td>\n",
       "    </tr>\n",
       "  </tbody>\n",
       "</table>\n",
       "<p>4373 rows × 3 columns</p>\n",
       "</div>"
      ],
      "text/plain": [
       "      CustomerID  DaysSinceLastPurchase  R_Score\n",
       "0              0                      0        1\n",
       "4126       17949                      0        1\n",
       "1128       13860                      0        1\n",
       "3114       16558                      0        1\n",
       "3163       16626                      0        1\n",
       "...          ...                    ...      ...\n",
       "360        12791                    373        4\n",
       "4213       18074                    373        4\n",
       "1047       13747                    373        4\n",
       "1765       14729                    373        4\n",
       "4097       17908                    373        4\n",
       "\n",
       "[4373 rows x 3 columns]"
      ]
     },
     "execution_count": 12,
     "metadata": {},
     "output_type": "execute_result"
    }
   ],
   "source": [
    "# Assigning R, F and M scores for each customer from their respective Data Frames\n",
    "\n",
    "recency_df.sort_values(by= ['DaysSinceLastPurchase'], ascending = True, inplace = True)\n",
    "recency_df['R_Score'] = pd.qcut(recency_df['DaysSinceLastPurchase'], q=[0, 0.25, 0.5, 0.75, 1], labels=False,\\\n",
    "                                duplicates = 'drop') + 1\n",
    "recency_df['R_Score'].fillna(0.0, inplace = True)\n",
    "\n",
    "recency_df"
   ]
  },
  {
   "cell_type": "code",
   "execution_count": 13,
   "id": "2ae77e31",
   "metadata": {},
   "outputs": [
    {
     "data": {
      "text/html": [
       "<div>\n",
       "<style scoped>\n",
       "    .dataframe tbody tr th:only-of-type {\n",
       "        vertical-align: middle;\n",
       "    }\n",
       "\n",
       "    .dataframe tbody tr th {\n",
       "        vertical-align: top;\n",
       "    }\n",
       "\n",
       "    .dataframe thead th {\n",
       "        text-align: right;\n",
       "    }\n",
       "</style>\n",
       "<table border=\"1\" class=\"dataframe\">\n",
       "  <thead>\n",
       "    <tr style=\"text-align: right;\">\n",
       "      <th></th>\n",
       "      <th>CustomerID</th>\n",
       "      <th>Frequency</th>\n",
       "      <th>F_Score</th>\n",
       "    </tr>\n",
       "  </thead>\n",
       "  <tbody>\n",
       "    <tr>\n",
       "      <th>0</th>\n",
       "      <td>0</td>\n",
       "      <td>3710</td>\n",
       "      <td>3</td>\n",
       "    </tr>\n",
       "    <tr>\n",
       "      <th>1896</th>\n",
       "      <td>14911</td>\n",
       "      <td>248</td>\n",
       "      <td>3</td>\n",
       "    </tr>\n",
       "    <tr>\n",
       "      <th>331</th>\n",
       "      <td>12748</td>\n",
       "      <td>224</td>\n",
       "      <td>3</td>\n",
       "    </tr>\n",
       "    <tr>\n",
       "      <th>4043</th>\n",
       "      <td>17841</td>\n",
       "      <td>169</td>\n",
       "      <td>3</td>\n",
       "    </tr>\n",
       "    <tr>\n",
       "      <th>1675</th>\n",
       "      <td>14606</td>\n",
       "      <td>128</td>\n",
       "      <td>3</td>\n",
       "    </tr>\n",
       "    <tr>\n",
       "      <th>...</th>\n",
       "      <td>...</td>\n",
       "      <td>...</td>\n",
       "      <td>...</td>\n",
       "    </tr>\n",
       "    <tr>\n",
       "      <th>3002</th>\n",
       "      <td>16404</td>\n",
       "      <td>1</td>\n",
       "      <td>1</td>\n",
       "    </tr>\n",
       "    <tr>\n",
       "      <th>1142</th>\n",
       "      <td>13877</td>\n",
       "      <td>1</td>\n",
       "      <td>1</td>\n",
       "    </tr>\n",
       "    <tr>\n",
       "      <th>2998</th>\n",
       "      <td>16400</td>\n",
       "      <td>1</td>\n",
       "      <td>1</td>\n",
       "    </tr>\n",
       "    <tr>\n",
       "      <th>1143</th>\n",
       "      <td>13878</td>\n",
       "      <td>1</td>\n",
       "      <td>1</td>\n",
       "    </tr>\n",
       "    <tr>\n",
       "      <th>2186</th>\n",
       "      <td>15300</td>\n",
       "      <td>1</td>\n",
       "      <td>1</td>\n",
       "    </tr>\n",
       "  </tbody>\n",
       "</table>\n",
       "<p>4373 rows × 3 columns</p>\n",
       "</div>"
      ],
      "text/plain": [
       "      CustomerID  Frequency  F_Score\n",
       "0              0       3710        3\n",
       "1896       14911        248        3\n",
       "331        12748        224        3\n",
       "4043       17841        169        3\n",
       "1675       14606        128        3\n",
       "...          ...        ...      ...\n",
       "3002       16404          1        1\n",
       "1142       13877          1        1\n",
       "2998       16400          1        1\n",
       "1143       13878          1        1\n",
       "2186       15300          1        1\n",
       "\n",
       "[4373 rows x 3 columns]"
      ]
     },
     "execution_count": 13,
     "metadata": {},
     "output_type": "execute_result"
    }
   ],
   "source": [
    "frequency_df.sort_values(by= ['Frequency'], ascending = False, inplace = True)\n",
    "frequency_df['F_Score'] = pd.qcut(frequency_df['Frequency'], q=[0, 0.25, 0.5, 0.75, 1], labels=False, duplicates='drop') + 1\n",
    "\n",
    "frequency_df"
   ]
  },
  {
   "cell_type": "code",
   "execution_count": 14,
   "id": "c043492f",
   "metadata": {},
   "outputs": [
    {
     "data": {
      "text/html": [
       "<div>\n",
       "<style scoped>\n",
       "    .dataframe tbody tr th:only-of-type {\n",
       "        vertical-align: middle;\n",
       "    }\n",
       "\n",
       "    .dataframe tbody tr th {\n",
       "        vertical-align: top;\n",
       "    }\n",
       "\n",
       "    .dataframe thead th {\n",
       "        text-align: right;\n",
       "    }\n",
       "</style>\n",
       "<table border=\"1\" class=\"dataframe\">\n",
       "  <thead>\n",
       "    <tr style=\"text-align: right;\">\n",
       "      <th></th>\n",
       "      <th>CustomerID</th>\n",
       "      <th>Monetary</th>\n",
       "      <th>M_Score</th>\n",
       "    </tr>\n",
       "  </thead>\n",
       "  <tbody>\n",
       "    <tr>\n",
       "      <th>0</th>\n",
       "      <td>0</td>\n",
       "      <td>1447682.12</td>\n",
       "      <td>4</td>\n",
       "    </tr>\n",
       "    <tr>\n",
       "      <th>1704</th>\n",
       "      <td>14646</td>\n",
       "      <td>279489.02</td>\n",
       "      <td>4</td>\n",
       "    </tr>\n",
       "    <tr>\n",
       "      <th>4234</th>\n",
       "      <td>18102</td>\n",
       "      <td>256438.49</td>\n",
       "      <td>4</td>\n",
       "    </tr>\n",
       "    <tr>\n",
       "      <th>3759</th>\n",
       "      <td>17450</td>\n",
       "      <td>187482.17</td>\n",
       "      <td>4</td>\n",
       "    </tr>\n",
       "    <tr>\n",
       "      <th>1896</th>\n",
       "      <td>14911</td>\n",
       "      <td>132572.62</td>\n",
       "      <td>4</td>\n",
       "    </tr>\n",
       "    <tr>\n",
       "      <th>...</th>\n",
       "      <td>...</td>\n",
       "      <td>...</td>\n",
       "      <td>...</td>\n",
       "    </tr>\n",
       "    <tr>\n",
       "      <th>126</th>\n",
       "      <td>12503</td>\n",
       "      <td>-1126.00</td>\n",
       "      <td>1</td>\n",
       "    </tr>\n",
       "    <tr>\n",
       "      <th>3871</th>\n",
       "      <td>17603</td>\n",
       "      <td>-1165.30</td>\n",
       "      <td>1</td>\n",
       "    </tr>\n",
       "    <tr>\n",
       "      <th>1385</th>\n",
       "      <td>14213</td>\n",
       "      <td>-1192.20</td>\n",
       "      <td>1</td>\n",
       "    </tr>\n",
       "    <tr>\n",
       "      <th>2237</th>\n",
       "      <td>15369</td>\n",
       "      <td>-1592.49</td>\n",
       "      <td>1</td>\n",
       "    </tr>\n",
       "    <tr>\n",
       "      <th>3757</th>\n",
       "      <td>17448</td>\n",
       "      <td>-4287.63</td>\n",
       "      <td>1</td>\n",
       "    </tr>\n",
       "  </tbody>\n",
       "</table>\n",
       "<p>4373 rows × 3 columns</p>\n",
       "</div>"
      ],
      "text/plain": [
       "      CustomerID    Monetary  M_Score\n",
       "0              0  1447682.12        4\n",
       "1704       14646   279489.02        4\n",
       "4234       18102   256438.49        4\n",
       "3759       17450   187482.17        4\n",
       "1896       14911   132572.62        4\n",
       "...          ...         ...      ...\n",
       "126        12503    -1126.00        1\n",
       "3871       17603    -1165.30        1\n",
       "1385       14213    -1192.20        1\n",
       "2237       15369    -1592.49        1\n",
       "3757       17448    -4287.63        1\n",
       "\n",
       "[4373 rows x 3 columns]"
      ]
     },
     "execution_count": 14,
     "metadata": {},
     "output_type": "execute_result"
    }
   ],
   "source": [
    "monetary_df.sort_values(by= ['Monetary'], ascending = False, inplace = True)\n",
    "monetary_df['M_Score'] = pd.qcut(monetary_df['Monetary'], q=[0, 0.25, 0.5, 0.75, 1], labels=False, duplicates='drop') + 1\n",
    "\n",
    "monetary_df"
   ]
  },
  {
   "cell_type": "code",
   "execution_count": 15,
   "id": "f6da009b",
   "metadata": {},
   "outputs": [
    {
     "data": {
      "text/html": [
       "<div>\n",
       "<style scoped>\n",
       "    .dataframe tbody tr th:only-of-type {\n",
       "        vertical-align: middle;\n",
       "    }\n",
       "\n",
       "    .dataframe tbody tr th {\n",
       "        vertical-align: top;\n",
       "    }\n",
       "\n",
       "    .dataframe thead th {\n",
       "        text-align: right;\n",
       "    }\n",
       "</style>\n",
       "<table border=\"1\" class=\"dataframe\">\n",
       "  <thead>\n",
       "    <tr style=\"text-align: right;\">\n",
       "      <th></th>\n",
       "      <th>CustomerID</th>\n",
       "      <th>R_Score</th>\n",
       "      <th>F_Score</th>\n",
       "      <th>M_Score</th>\n",
       "      <th>RFM_Score</th>\n",
       "    </tr>\n",
       "  </thead>\n",
       "  <tbody>\n",
       "    <tr>\n",
       "      <th>0</th>\n",
       "      <td>0</td>\n",
       "      <td>1</td>\n",
       "      <td>3</td>\n",
       "      <td>4</td>\n",
       "      <td>134</td>\n",
       "    </tr>\n",
       "    <tr>\n",
       "      <th>1</th>\n",
       "      <td>17949</td>\n",
       "      <td>1</td>\n",
       "      <td>3</td>\n",
       "      <td>4</td>\n",
       "      <td>134</td>\n",
       "    </tr>\n",
       "    <tr>\n",
       "      <th>2</th>\n",
       "      <td>13860</td>\n",
       "      <td>1</td>\n",
       "      <td>3</td>\n",
       "      <td>3</td>\n",
       "      <td>133</td>\n",
       "    </tr>\n",
       "    <tr>\n",
       "      <th>3</th>\n",
       "      <td>16558</td>\n",
       "      <td>1</td>\n",
       "      <td>3</td>\n",
       "      <td>4</td>\n",
       "      <td>134</td>\n",
       "    </tr>\n",
       "    <tr>\n",
       "      <th>4</th>\n",
       "      <td>16626</td>\n",
       "      <td>1</td>\n",
       "      <td>3</td>\n",
       "      <td>4</td>\n",
       "      <td>134</td>\n",
       "    </tr>\n",
       "    <tr>\n",
       "      <th>...</th>\n",
       "      <td>...</td>\n",
       "      <td>...</td>\n",
       "      <td>...</td>\n",
       "      <td>...</td>\n",
       "      <td>...</td>\n",
       "    </tr>\n",
       "    <tr>\n",
       "      <th>4368</th>\n",
       "      <td>12791</td>\n",
       "      <td>4</td>\n",
       "      <td>1</td>\n",
       "      <td>1</td>\n",
       "      <td>411</td>\n",
       "    </tr>\n",
       "    <tr>\n",
       "      <th>4369</th>\n",
       "      <td>18074</td>\n",
       "      <td>4</td>\n",
       "      <td>1</td>\n",
       "      <td>2</td>\n",
       "      <td>412</td>\n",
       "    </tr>\n",
       "    <tr>\n",
       "      <th>4370</th>\n",
       "      <td>13747</td>\n",
       "      <td>4</td>\n",
       "      <td>1</td>\n",
       "      <td>1</td>\n",
       "      <td>411</td>\n",
       "    </tr>\n",
       "    <tr>\n",
       "      <th>4371</th>\n",
       "      <td>14729</td>\n",
       "      <td>4</td>\n",
       "      <td>1</td>\n",
       "      <td>2</td>\n",
       "      <td>412</td>\n",
       "    </tr>\n",
       "    <tr>\n",
       "      <th>4372</th>\n",
       "      <td>17908</td>\n",
       "      <td>4</td>\n",
       "      <td>1</td>\n",
       "      <td>1</td>\n",
       "      <td>411</td>\n",
       "    </tr>\n",
       "  </tbody>\n",
       "</table>\n",
       "<p>4373 rows × 5 columns</p>\n",
       "</div>"
      ],
      "text/plain": [
       "      CustomerID  R_Score  F_Score  M_Score  RFM_Score\n",
       "0              0        1        3        4        134\n",
       "1          17949        1        3        4        134\n",
       "2          13860        1        3        3        133\n",
       "3          16558        1        3        4        134\n",
       "4          16626        1        3        4        134\n",
       "...          ...      ...      ...      ...        ...\n",
       "4368       12791        4        1        1        411\n",
       "4369       18074        4        1        2        412\n",
       "4370       13747        4        1        1        411\n",
       "4371       14729        4        1        2        412\n",
       "4372       17908        4        1        1        411\n",
       "\n",
       "[4373 rows x 5 columns]"
      ]
     },
     "execution_count": 15,
     "metadata": {},
     "output_type": "execute_result"
    }
   ],
   "source": [
    "# Combining the R, F and M scores to create a single score\n",
    "# The formula used to combine these scores : R * 100 + F * 10 + M\n",
    "\n",
    "rfm_scores = pd.merge(recency_df[['CustomerID', 'R_Score']], frequency_df[['CustomerID', 'F_Score']], on='CustomerID')\n",
    "rfm_scores = pd.merge(rfm_scores, monetary_df[['CustomerID', 'M_Score']], on='CustomerID')\n",
    "\n",
    "rfm_scores['RFM_Score'] = rfm_scores['R_Score'] * 100 + rfm_scores['F_Score'] * 10 + rfm_scores['M_Score']\n",
    "rfm_scores"
   ]
  },
  {
   "cell_type": "markdown",
   "id": "a23ceb0c",
   "metadata": {},
   "source": [
    "### Customer Segmentation\n",
    "\n",
    "Using K-Means clustering to segment customers based on their RFM scores.\n"
   ]
  },
  {
   "cell_type": "code",
   "execution_count": 16,
   "id": "f8bbafd3",
   "metadata": {},
   "outputs": [
    {
     "data": {
      "text/plain": [
       "array([[-1.32069435,  1.58566721,  1.34182492],\n",
       "       [-1.32069435,  1.58566721,  1.34182492],\n",
       "       [-1.32069435,  1.58566721,  0.44747949],\n",
       "       ...,\n",
       "       [ 1.34651458, -0.76289256, -1.34121137],\n",
       "       [ 1.34651458, -0.76289256, -0.44686594],\n",
       "       [ 1.34651458, -0.76289256, -1.34121137]])"
      ]
     },
     "execution_count": 16,
     "metadata": {},
     "output_type": "execute_result"
    }
   ],
   "source": [
    "from sklearn.preprocessing import StandardScaler\n",
    "\n",
    "# Extract RFM scores for clustering\n",
    "rfm_data = rfm_scores[['R_Score', 'F_Score', 'M_Score']]\n",
    "\n",
    "# Scale the data\n",
    "scaler = StandardScaler()\n",
    "rfm_scaled = scaler.fit_transform(rfm_data)\n",
    "rfm_scaled"
   ]
  },
  {
   "cell_type": "code",
   "execution_count": 17,
   "id": "0ff4db5d",
   "metadata": {},
   "outputs": [
    {
     "data": {
      "image/png": "[encoded data removed]",
      "text/plain": [
       "<Figure size 720x432 with 1 Axes>"
      ]
     },
     "metadata": {
      "needs_background": "light"
     },
     "output_type": "display_data"
    }
   ],
   "source": [
    "# Finding the optimal number of clusters\n",
    "\n",
    "from sklearn.cluster import KMeans\n",
    "import matplotlib.pyplot as plt\n",
    "\n",
    "# Trying different numbers of clusters\n",
    "k_values = range(1, 11)\n",
    "inertias = []\n",
    "\n",
    "for k in k_values:\n",
    "    kmeans = KMeans(n_clusters=k, random_state=42)\n",
    "    kmeans.fit(rfm_scaled)\n",
    "    inertias.append(kmeans.inertia_)\n",
    "\n",
    "# Plotting the elbow graph to observe which is the optimal number of clusters\n",
    "\n",
    "plt.figure(figsize = (10,6))\n",
    "plt.plot(k_values, inertias, marker='o', color = 'brown')\n",
    "plt.xlabel('Number of Clusters', fontsize = 14)\n",
    "plt.ylabel('Inertia', fontsize = 14)\n",
    "plt.title('Elbow Method for Optimal K', fontsize = 16)\n",
    "plt.grid(True)\n",
    "plt.show()\n"
   ]
  },
  {
   "cell_type": "markdown",
   "id": "ec38a4da",
   "metadata": {},
   "source": [
    "### Cluster Size Comparison\n",
    "\n",
    "From the Elbow Graph, we notice that a Cluster size of 3 or 4 might be optimal. \n",
    "The Silhouette Score is used to see which cluster size is optimal. A higher Silhouette Score suggests that the cluster size is optimal."
   ]
  },
  {
   "cell_type": "code",
   "execution_count": 18,
   "id": "31ff8271",
   "metadata": {},
   "outputs": [
    {
     "name": "stdout",
     "output_type": "stream",
     "text": [
      "Cluster Size 4 is optimal since  0.47  is greater than  0.45\n"
     ]
    }
   ],
   "source": [
    "from sklearn.cluster import KMeans\n",
    "from sklearn.metrics import silhouette_score\n",
    "\n",
    "# For Cluster Size 3\n",
    "kmeans_1 = KMeans(n_clusters=3, random_state=0)\n",
    "labels_1 = kmeans_1.fit_predict(rfm_scaled)\n",
    "silhouette_1 = silhouette_score(rfm_scaled, labels_1)\n",
    "\n",
    "# For Cluster Size 4\n",
    "kmeans_2 = KMeans(n_clusters=4, random_state=0)\n",
    "labels_2 = kmeans_2.fit_predict(rfm_scaled)\n",
    "silhouette_2 = silhouette_score(rfm_scaled, labels_2)\n",
    "\n",
    "if(silhouette_1 > silhouette_2):\n",
    "    print(\"Cluster Size 3 is optimal since \", round(silhouette_1, 2), \" is greater than \", round(silhouette_2, 2))\n",
    "else:\n",
    "    print(\"Cluster Size 4 is optimal since \", round(silhouette_2, 2), \" is greater than \", round(silhouette_1, 2))\n"
   ]
  },
  {
   "cell_type": "code",
   "execution_count": 19,
   "id": "59339b53",
   "metadata": {},
   "outputs": [
    {
     "data": {
      "text/html": [
       "<div>\n",
       "<style scoped>\n",
       "    .dataframe tbody tr th:only-of-type {\n",
       "        vertical-align: middle;\n",
       "    }\n",
       "\n",
       "    .dataframe tbody tr th {\n",
       "        vertical-align: top;\n",
       "    }\n",
       "\n",
       "    .dataframe thead th {\n",
       "        text-align: right;\n",
       "    }\n",
       "</style>\n",
       "<table border=\"1\" class=\"dataframe\">\n",
       "  <thead>\n",
       "    <tr style=\"text-align: right;\">\n",
       "      <th></th>\n",
       "      <th>CustomerID</th>\n",
       "      <th>R_Score</th>\n",
       "      <th>F_Score</th>\n",
       "      <th>M_Score</th>\n",
       "      <th>RFM_Score</th>\n",
       "      <th>Cluster</th>\n",
       "    </tr>\n",
       "  </thead>\n",
       "  <tbody>\n",
       "    <tr>\n",
       "      <th>0</th>\n",
       "      <td>0</td>\n",
       "      <td>1</td>\n",
       "      <td>3</td>\n",
       "      <td>4</td>\n",
       "      <td>134</td>\n",
       "      <td>0</td>\n",
       "    </tr>\n",
       "    <tr>\n",
       "      <th>1</th>\n",
       "      <td>17949</td>\n",
       "      <td>1</td>\n",
       "      <td>3</td>\n",
       "      <td>4</td>\n",
       "      <td>134</td>\n",
       "      <td>0</td>\n",
       "    </tr>\n",
       "    <tr>\n",
       "      <th>2</th>\n",
       "      <td>13860</td>\n",
       "      <td>1</td>\n",
       "      <td>3</td>\n",
       "      <td>3</td>\n",
       "      <td>133</td>\n",
       "      <td>0</td>\n",
       "    </tr>\n",
       "    <tr>\n",
       "      <th>3</th>\n",
       "      <td>16558</td>\n",
       "      <td>1</td>\n",
       "      <td>3</td>\n",
       "      <td>4</td>\n",
       "      <td>134</td>\n",
       "      <td>0</td>\n",
       "    </tr>\n",
       "    <tr>\n",
       "      <th>4</th>\n",
       "      <td>16626</td>\n",
       "      <td>1</td>\n",
       "      <td>3</td>\n",
       "      <td>4</td>\n",
       "      <td>134</td>\n",
       "      <td>0</td>\n",
       "    </tr>\n",
       "    <tr>\n",
       "      <th>...</th>\n",
       "      <td>...</td>\n",
       "      <td>...</td>\n",
       "      <td>...</td>\n",
       "      <td>...</td>\n",
       "      <td>...</td>\n",
       "      <td>...</td>\n",
       "    </tr>\n",
       "    <tr>\n",
       "      <th>4368</th>\n",
       "      <td>12791</td>\n",
       "      <td>4</td>\n",
       "      <td>1</td>\n",
       "      <td>1</td>\n",
       "      <td>411</td>\n",
       "      <td>1</td>\n",
       "    </tr>\n",
       "    <tr>\n",
       "      <th>4369</th>\n",
       "      <td>18074</td>\n",
       "      <td>4</td>\n",
       "      <td>1</td>\n",
       "      <td>2</td>\n",
       "      <td>412</td>\n",
       "      <td>1</td>\n",
       "    </tr>\n",
       "    <tr>\n",
       "      <th>4370</th>\n",
       "      <td>13747</td>\n",
       "      <td>4</td>\n",
       "      <td>1</td>\n",
       "      <td>1</td>\n",
       "      <td>411</td>\n",
       "      <td>1</td>\n",
       "    </tr>\n",
       "    <tr>\n",
       "      <th>4371</th>\n",
       "      <td>14729</td>\n",
       "      <td>4</td>\n",
       "      <td>1</td>\n",
       "      <td>2</td>\n",
       "      <td>412</td>\n",
       "      <td>1</td>\n",
       "    </tr>\n",
       "    <tr>\n",
       "      <th>4372</th>\n",
       "      <td>17908</td>\n",
       "      <td>4</td>\n",
       "      <td>1</td>\n",
       "      <td>1</td>\n",
       "      <td>411</td>\n",
       "      <td>1</td>\n",
       "    </tr>\n",
       "  </tbody>\n",
       "</table>\n",
       "<p>4373 rows × 6 columns</p>\n",
       "</div>"
      ],
      "text/plain": [
       "      CustomerID  R_Score  F_Score  M_Score  RFM_Score  Cluster\n",
       "0              0        1        3        4        134        0\n",
       "1          17949        1        3        4        134        0\n",
       "2          13860        1        3        3        133        0\n",
       "3          16558        1        3        4        134        0\n",
       "4          16626        1        3        4        134        0\n",
       "...          ...      ...      ...      ...        ...      ...\n",
       "4368       12791        4        1        1        411        1\n",
       "4369       18074        4        1        2        412        1\n",
       "4370       13747        4        1        1        411        1\n",
       "4371       14729        4        1        2        412        1\n",
       "4372       17908        4        1        1        411        1\n",
       "\n",
       "[4373 rows x 6 columns]"
      ]
     },
     "execution_count": 19,
     "metadata": {},
     "output_type": "execute_result"
    }
   ],
   "source": [
    "optimal_k = 4\n",
    "\n",
    "# Apply K-Means clustering\n",
    "kmeans = KMeans(n_clusters=optimal_k, random_state=42)\n",
    "rfm_scores['Cluster'] = kmeans.fit_predict(rfm_scaled)\n",
    "rfm_scores"
   ]
  },
  {
   "cell_type": "code",
   "execution_count": 20,
   "id": "6b439c5b",
   "metadata": {},
   "outputs": [
    {
     "data": {
      "text/plain": [
       "1    1422\n",
       "0    1269\n",
       "2     896\n",
       "3     786\n",
       "Name: Cluster, dtype: int64"
      ]
     },
     "execution_count": 20,
     "metadata": {},
     "output_type": "execute_result"
    }
   ],
   "source": [
    "rfm_scores['Cluster'].value_counts()"
   ]
  },
  {
   "cell_type": "markdown",
   "id": "2741da16",
   "metadata": {},
   "source": [
    "#### Recency Score Across Clusters"
   ]
  },
  {
   "cell_type": "code",
   "execution_count": 21,
   "id": "809be3c8",
   "metadata": {},
   "outputs": [
    {
     "data": {
      "image/png": "[encoded data removed]",
      "text/plain": [
       "<Figure size 720x432 with 1 Axes>"
      ]
     },
     "metadata": {
      "needs_background": "light"
     },
     "output_type": "display_data"
    }
   ],
   "source": [
    "import seaborn as sns\n",
    "import matplotlib.pyplot as plt\n",
    "\n",
    "# Extract relevant columns for visualization\n",
    "recency_data = rfm_scores[['Cluster', 'R_Score']]\n",
    "\n",
    "#Create a bar plot of average recency scores across clusters\n",
    "\n",
    "plt.figure(figsize=(10, 6))\n",
    "sns.barplot(x='Cluster', y='R_Score', data=recency_data, ci=None, palette=\"Set2\")\n",
    "plt.title('Average Recency Score Across Clusters', fontsize = 16)\n",
    "plt.xlabel('Cluster', fontsize = 14)\n",
    "plt.ylabel('Average Recency Score', fontsize = 14)\n",
    "plt.show()"
   ]
  },
  {
   "cell_type": "markdown",
   "id": "09f60ce7",
   "metadata": {},
   "source": [
    "#### Frequency Score Across Clusters"
   ]
  },
  {
   "cell_type": "code",
   "execution_count": 22,
   "id": "751bf707",
   "metadata": {},
   "outputs": [
    {
     "data": {
      "image/png": "[encoded data removed]",
      "text/plain": [
       "<Figure size 720x432 with 1 Axes>"
      ]
     },
     "metadata": {
      "needs_background": "light"
     },
     "output_type": "display_data"
    }
   ],
   "source": [
    "import seaborn as sns\n",
    "import matplotlib.pyplot as plt\n",
    "\n",
    "# Extract relevant columns for visualization\n",
    "frequency_data = rfm_scores[['Cluster', 'F_Score']]\n",
    "\n",
    "# Create a bar plot of average recency scores across clusters\n",
    "plt.figure(figsize=(10, 6))\n",
    "sns.barplot(x='Cluster', y='F_Score', data=frequency_data, ci=None, palette=\"Set2\")\n",
    "plt.title('Average Frequency Score Across Clusters', fontsize = 16)\n",
    "plt.xlabel('Cluster', fontsize = 14)\n",
    "plt.ylabel('Average Frequency Score', fontsize = 14)\n",
    "plt.show()\n"
   ]
  },
  {
   "cell_type": "markdown",
   "id": "11c025e6",
   "metadata": {},
   "source": [
    "#### Monetary Score Across Clusters"
   ]
  },
  {
   "cell_type": "code",
   "execution_count": 23,
   "id": "5f7ea4ab",
   "metadata": {},
   "outputs": [
    {
     "data": {
      "image/png": "[encoded data removed]",
      "text/plain": [
       "<Figure size 720x432 with 1 Axes>"
      ]
     },
     "metadata": {
      "needs_background": "light"
     },
     "output_type": "display_data"
    }
   ],
   "source": [
    "import seaborn as sns\n",
    "import matplotlib.pyplot as plt\n",
    "\n",
    "# Extract relevant columns for visualization\n",
    "monetary_data = rfm_scores[['Cluster', 'M_Score']]\n",
    "\n",
    "# Create a bar plot of average recency scores across clusters\n",
    "plt.figure(figsize=(10, 6))\n",
    "sns.barplot(x='Cluster', y='M_Score', data=monetary_data, ci=None, palette=\"Set2\")\n",
    "plt.title('Average Monetary Score Across Clusters', fontsize = 16)\n",
    "plt.xlabel('Cluster', fontsize = 14)\n",
    "plt.ylabel('Average Monetary Score', fontsize = 14)\n",
    "plt.show()"
   ]
  },
  {
   "cell_type": "markdown",
   "id": "b3c22448",
   "metadata": {},
   "source": [
    "## Visualization\n",
    "\n",
    "Visualizations (e.g., bar charts, scatter plots, or heat maps) to illustrate the RFM distribution and the clusters formed."
   ]
  },
  {
   "cell_type": "code",
   "execution_count": 24,
   "id": "32b6e02b",
   "metadata": {},
   "outputs": [
    {
     "data": {
      "image/png": "[encoded data removed]",
      "text/plain": [
       "<Figure size 720x576 with 1 Axes>"
      ]
     },
     "metadata": {
      "needs_background": "light"
     },
     "output_type": "display_data"
    }
   ],
   "source": [
    "import matplotlib.pyplot as plt\n",
    "from mpl_toolkits.mplot3d import Axes3D\n",
    "\n",
    "# Extract relevant columns for visualization\n",
    "cluster_data = rfm_scores[['R_Score', 'F_Score', 'M_Score', 'Cluster']]\n",
    "\n",
    "# Create a 3D scatter plot\n",
    "fig = plt.figure(figsize=(10, 8))\n",
    "ax = fig.add_subplot(111, projection='3d')\n",
    "\n",
    "# Scatter plot points for each cluster\n",
    "for cluster in range(optimal_k):\n",
    "    cluster_points = cluster_data[cluster_data['Cluster'] == cluster]\n",
    "    ax.scatter(cluster_points['R_Score'], cluster_points['F_Score'], cluster_points['M_Score'], label=f'Cluster {cluster}')\n",
    "\n",
    "# Set axis labels\n",
    "ax.set_xlabel('Recency Score')\n",
    "ax.set_ylabel('Frequency Score')\n",
    "ax.set_zlabel('Monetary Score')\n",
    "ax.set_title('RFM Clusters')\n",
    "\n",
    "# Add a legend\n",
    "ax.legend()\n",
    "\n",
    "plt.show()"
   ]
  },
  {
   "cell_type": "code",
   "execution_count": 25,
   "id": "05ecb54a",
   "metadata": {},
   "outputs": [
    {
     "data": {
      "image/png": "[encoded data removed]",
      "text/plain": [
       "<Figure size 720x432 with 1 Axes>"
      ]
     },
     "metadata": {
      "needs_background": "light"
     },
     "output_type": "display_data"
    }
   ],
   "source": [
    "import matplotlib.pyplot as plt\n",
    "import seaborn as sns  # Import seaborn for better color palettes\n",
    "\n",
    "# Extract relevant columns for visualization\n",
    "scatter_data = rfm_scores[['CustomerID', 'RFM_Score', 'Cluster']]\n",
    "\n",
    "# Set up a color palette for the clusters\n",
    "cluster_palette = sns.color_palette(\"husl\", n_colors=optimal_k)\n",
    "\n",
    "\n",
    "# Create a scatter plot with different colors for each cluster\n",
    "plt.figure(figsize=(10, 6))\n",
    "for cluster in range(optimal_k):\n",
    "    cluster_points = scatter_data[scatter_data['Cluster'] == cluster]\n",
    "    plt.scatter(cluster_points['CustomerID'], cluster_points['RFM_Score'], label=f'Cluster {cluster}', alpha=0.7, color=cluster_palette[cluster])\n",
    "\n",
    "# Set plot labels and title\n",
    "plt.title('Scatter Plot between RFM Score and CustomerID with Clusters')\n",
    "plt.xlabel('CustomerID')\n",
    "plt.ylabel('RFM Score')\n",
    "plt.grid(True)\n",
    "\n",
    "# Add a legend\n",
    "plt.legend()\n",
    "\n",
    "# Show the plot\n",
    "plt.show()"
   ]
  },
  {
   "cell_type": "code",
   "execution_count": 26,
   "id": "353b220d",
   "metadata": {},
   "outputs": [
    {
     "name": "stdout",
     "output_type": "stream",
     "text": [
      "        R_Score              F_Score              M_Score             \n",
      "           mean median   std    mean median   std    mean median   std\n",
      "Cluster                                                               \n",
      "0          1.51      1  0.69    2.83      3  0.38    3.70      4  0.49\n",
      "1          3.63      4  0.48    1.03      1  0.19    1.45      1  0.50\n",
      "2          2.87      3  0.77    1.45      1  0.57    3.16      3  0.48\n",
      "3          1.56      2  0.50    1.10      1  0.30    1.72      2  0.65\n"
     ]
    }
   ],
   "source": [
    "# Displaying Cluster Profiles for observations based on R, F and M scores\n",
    "\n",
    "cluster_profiles = rfm_scores.groupby('Cluster').agg({\n",
    "    'R_Score': ['mean', 'median', 'std'],\n",
    "    'F_Score': ['mean', 'median', 'std'],\n",
    "    'M_Score': ['mean', 'median', 'std'],\n",
    "    # Add other relevant attributes\n",
    "}).round(2)\n",
    "\n",
    "print(cluster_profiles)"
   ]
  },
  {
   "cell_type": "markdown",
   "id": "278a767e",
   "metadata": {},
   "source": [
    "## Segment Profiling"
   ]
  },
  {
   "cell_type": "markdown",
   "id": "c49aa398",
   "metadata": {},
   "source": [
    "### Cluster 0:Active and High-Value Customers\n",
    "\n",
    "R_Score: Customers in this segment have a relatively low recency score, with a mean of 1.51. This suggests that they made recent purchases.\n",
    "\n",
    "F_Score: They have a relatively high frequency score, with a mean of 2.83, indicating that they make frequent purchases.\n",
    "\n",
    "M_Score: The monetary value of their purchases is high, with a mean of 3.70.\n",
    "\n",
    "<u>Characteristics:</u> This segment likely represents active and high-value customers who have made recent and frequent purchases.\n",
    "\n",
    "### Cluster 1:Dormant or Lapsed Customers\n",
    "\n",
    "R_Score: Customers in this segment have a high recency score, with a mean of 3.63, suggesting less recent purchases.\n",
    "\n",
    "F_Score: They have a relatively low frequency score, with a mean of 1.03, indicating infrequent purchases.\n",
    "\n",
    "M_Score: The monetary value of their purchases is lower, with a mean of 1.45.\n",
    "\n",
    "<u>Characteristics:</u> This segment may include customers who haven't made purchases recently and have lower frequency and monetary values. It could represent dormant or lapsed customers.\n",
    "\n",
    "### Cluster 2:Occasional High Spenders\n",
    "\n",
    "R_Score: Customers in this segment have a moderate recency score, with a mean of 2.87.\n",
    "\n",
    "F_Score: They have a moderate frequency score, with a mean of 1.45.\n",
    "\n",
    "M_Score: The monetary value of their purchases is relatively high, with a mean of 3.16.\n",
    "\n",
    "<u>Characteristics:</u> This segment represents customers with moderate recency and frequency, but higher monetary values. They may be occasional buyers who spend more per purchase.\n",
    "\n",
    "### Cluster 3:Moderately Frequent and Recent Purchasers\n",
    "\n",
    "R_Score: Customers in this segment have a low recency score, with a mean of 1.56.\n",
    "\n",
    "F_Score: They have a moderate frequency score, with a mean of 1.10.\n",
    "\n",
    "M_Score: The monetary value of their purchases is moderate, with a mean of 1.72.\n",
    "\n",
    "<u>Characteristics:</u> This segment includes customers who make moderately frequent and recent purchases with a moderate monetary value."
   ]
  },
  {
   "cell_type": "markdown",
   "id": "4c3034bd",
   "metadata": {},
   "source": [
    "## Market Recommendations"
   ]
  },
  {
   "cell_type": "markdown",
   "id": "c8d2f42e",
   "metadata": {},
   "source": [
    "### Cluster 0: Active and High-Value Customers\n",
    "\n",
    "#### Recommendations:\n",
    "Retention Focus: Implement loyalty programs or exclusive offers to reward and retain these active customers.\n",
    "Personalized Campaigns: Launch personalized marketing campaigns based on their recent purchases to encourage repeat business.\n",
    "Cross-Selling: Suggest complementary products or services to maximize their spending.\n",
    "\n",
    "### Cluster 1: Dormant or Lapsed Customers\n",
    "\n",
    "#### Recommendations:\n",
    "Reactivation Campaigns: Design targeted campaigns to win back these customers, offering special promotions or incentives.\n",
    "Survey Feedback: Send surveys to understand reasons for inactivity and tailor offers based on their feedback.\n",
    "Reminders: Use personalized reminders to bring their attention back to the brand and highlight new offerings.\n",
    "\n",
    "### Cluster 2: Occasional High Spenders\n",
    "\n",
    "#### Recommendations:\n",
    "Promotions for High-Value Items: Identify and promote high-margin or high-value items to encourage larger transactions.\n",
    "Exclusive Events: Create exclusive events or early access for this segment to make them feel valued.\n",
    "Subscription Services: Introduce subscription-based services for products they frequently purchase.\n",
    "\n",
    "### Cluster 3: Moderately Frequent and Recent Purchasers\n",
    "\n",
    "#### Recommendations:\n",
    "Frequency Incentives: Encourage more frequent purchases through tiered discounts or loyalty points.\n",
    "New Product Introductions: Showcase new products to stimulate interest and drive additional purchases.\n",
    "Targeted Promotions: Use targeted promotions based on their past behavior to increase engagement."
   ]
  },
  {
   "cell_type": "markdown",
   "id": "9d546d87",
   "metadata": {},
   "source": [
    "## Deep-Dive into Customer Data\n",
    "\n",
    "Listed below are some of the additional analyses performed on the Customer Data that depict valuable insights into patterns or trends across the dataset. "
   ]
  },
  {
   "cell_type": "markdown",
   "id": "5e384c88",
   "metadata": {},
   "source": [
    "### Customer Analysis"
   ]
  },
  {
   "cell_type": "code",
   "execution_count": 27,
   "id": "fa59bb6e",
   "metadata": {},
   "outputs": [
    {
     "name": "stdout",
     "output_type": "stream",
     "text": [
      "Number of unique customers: 4373\n"
     ]
    }
   ],
   "source": [
    "# Question 1: How many unique customers are there in the dataset?\n",
    "\n",
    "unique_customers = customer_df['CustomerID'].nunique()\n",
    "print(f\"Number of unique customers: {unique_customers}\")"
   ]
  },
  {
   "cell_type": "code",
   "execution_count": 28,
   "id": "ebce536a",
   "metadata": {},
   "outputs": [
    {
     "name": "stdout",
     "output_type": "stream",
     "text": [
      "\n",
      "Distribution of the number of orders per customer:\n",
      "count    4373.000000\n",
      "mean        5.922708\n",
      "std        56.798813\n",
      "min         1.000000\n",
      "25%         1.000000\n",
      "50%         3.000000\n",
      "75%         5.000000\n",
      "max      3710.000000\n",
      "Name: InvoiceNo, dtype: float64\n"
     ]
    }
   ],
   "source": [
    "# Question 2: Distribution of the number of orders per customer\n",
    "orders_per_customer = customer_df.groupby('CustomerID')['InvoiceNo'].nunique()\n",
    "print(\"\\nDistribution of the number of orders per customer:\")\n",
    "print(orders_per_customer.describe())"
   ]
  },
  {
   "cell_type": "markdown",
   "id": "10b410f2",
   "metadata": {},
   "source": [
    "#### Comments on the Distribution of orders across each customer\n",
    "\n",
    "1. <u>Number of Customers (Count)</u>: There are 4373 unique customers in the dataset.\n",
    "2. <u>Average Number of Orders per Customer (Mean)</u>: On average, each customer has approximately 5.92 orders\n",
    "3. <u>Variability in the Number of Orders (Standard Deviation)</u>: The standard deviation is relatively high at 56.80, indicating a significant amount of variability or dispersion in the number of orders per customer. The dataset has a wide range of values.\n",
    "4. <u>Minimum Number of Orders (Min)</u>: The minimum number of orders placed by a single customer is 1.\n",
    "5. <u>25th Percentile (Q1)</u>: 25% of customers have 1 order or fewer. This indicates that a substantial portion of customers made a very small number of orders.\n",
    "6. <u>50th Percentile (Median or Q2)</u>: The median is 3, suggesting that 50% of customers have 3 orders or fewer. This provides insight into the central tendency of the middle part of the distribution.\n",
    "7. <u>75th Percentile (Q3)</u>: 75% of customers have 5 orders or fewer. This indicates that a large majority of customers have a relatively low number of orders.\n",
    "8. <u>Maximum Number of Orders (Max)</u>: The maximum number of orders placed by a single customer is exceptionally high at 3710, highlighting the presence of outliers or a small number of customers with a significantly higher order frequency.\n",
    "\n",
    "In summary, the distribution suggests a dataset with a wide range of order frequencies per customer. While the average is around 5.92 orders, the presence of outliers significantly impacts the standard deviation and maximum values. Understanding the distribution of orders per customer is crucial for segmenting and tailoring strategies to different customer groups. Additionally, further investigation into the factors contributing to outliers may be valuable for a more nuanced analysis."
   ]
  },
  {
   "cell_type": "code",
   "execution_count": 29,
   "id": "3a02f517",
   "metadata": {},
   "outputs": [
    {
     "name": "stdout",
     "output_type": "stream",
     "text": [
      "\n",
      "Top 5 customers with the most purchases by order count (excluding CustomerID 0):\n",
      "CustomerID\n",
      "14911    248\n",
      "12748    224\n",
      "17841    169\n",
      "14606    128\n",
      "13089    118\n",
      "Name: InvoiceNo, dtype: int64\n"
     ]
    }
   ],
   "source": [
    "# Question 3: Identify the top 5 customers with the most purchases by order count (excluding CustomerID 0)\n",
    "top_customers = customer_df[customer_df['CustomerID'] != 0].groupby('CustomerID')['InvoiceNo'].nunique().sort_values(ascending=False).head(5)\n",
    "\n",
    "print(\"\\nTop 5 customers with the most purchases by order count (excluding CustomerID 0):\")\n",
    "print(top_customers)"
   ]
  },
  {
   "cell_type": "code",
   "execution_count": 30,
   "id": "ae9d4d15",
   "metadata": {},
   "outputs": [
    {
     "data": {
      "image/png": "[encoded data removed]",
      "text/plain": [
       "<Figure size 576x432 with 1 Axes>"
      ]
     },
     "metadata": {
      "needs_background": "light"
     },
     "output_type": "display_data"
    }
   ],
   "source": [
    "# Plotting the top 5 customers\n",
    "plt.figure(figsize=(8, 6))  \n",
    "top_customers.plot(kind='bar', color='skyblue', edgecolor='black')\n",
    "\n",
    "plt.title('Top 5 Customers with the Most Purchases', fontsize=16)\n",
    "plt.xlabel('Customer ID', fontsize=14)\n",
    "plt.ylabel('Number of Orders', fontsize=14)\n",
    "\n",
    "# Adding data labels on top of each bar for better visibility\n",
    "for p in plt.gca().patches:\n",
    "    plt.gca().annotate(str(p.get_height()), (p.get_x() + p.get_width() / 2, p.get_height()),\n",
    "                       ha='center', va='bottom', fontsize=10, color='black')\n",
    "\n",
    "plt.tight_layout() \n",
    "plt.show()"
   ]
  },
  {
   "cell_type": "markdown",
   "id": "b090c5b3",
   "metadata": {},
   "source": [
    "### Product Analysis"
   ]
  },
  {
   "cell_type": "code",
   "execution_count": 31,
   "id": "a91a55bf",
   "metadata": {},
   "outputs": [
    {
     "name": "stdout",
     "output_type": "stream",
     "text": [
      "Top 10 most frequently purchased products:\n",
      "StockCode\n",
      "22197     56450\n",
      "84077     53847\n",
      "85099B    47363\n",
      "85123A    38830\n",
      "84879     36221\n",
      "21212     36039\n",
      "23084     30646\n",
      "22492     26437\n",
      "22616     26315\n",
      "21977     24753\n",
      "Name: Quantity, dtype: int64\n"
     ]
    }
   ],
   "source": [
    "# Question 1: What are the top 10 most frequently purchased products?\n",
    "\n",
    "top_products = customer_df.groupby('StockCode')['Quantity'].sum().sort_values(ascending=False).head(10)\n",
    "print(\"Top 10 most frequently purchased products:\")\n",
    "print(top_products)"
   ]
  },
  {
   "cell_type": "code",
   "execution_count": 32,
   "id": "ecba0176",
   "metadata": {},
   "outputs": [
    {
     "name": "stdout",
     "output_type": "stream",
     "text": [
      "\n",
      "Average price of products in the dataset: 4.611113626083471\n"
     ]
    }
   ],
   "source": [
    "# Question 2: Average price of products in the dataset\n",
    "\n",
    "average_price = customer_df['UnitPrice'].mean()\n",
    "print(\"\\nAverage price of products in the dataset:\", average_price)"
   ]
  },
  {
   "cell_type": "code",
   "execution_count": 33,
   "id": "cc7ec275",
   "metadata": {},
   "outputs": [
    {
     "name": "stdout",
     "output_type": "stream",
     "text": [
      "\n",
      "Product category generating the highest revenue: DOT\n"
     ]
    }
   ],
   "source": [
    "# Question 3: Product category generating the highest revenue\n",
    "\n",
    "customer_df['TotalPrice'] = customer_df['Quantity'] * customer_df['UnitPrice']\n",
    "highest_revenue_category = customer_df.groupby('StockCode')['TotalPrice'].sum().idxmax()\n",
    "print(\"\\nProduct category generating the highest revenue:\", highest_revenue_category)"
   ]
  },
  {
   "cell_type": "code",
   "execution_count": 34,
   "id": "db321491",
   "metadata": {},
   "outputs": [
    {
     "data": {
      "text/plain": [
       "StockCode\n",
       "DOT             206245.480\n",
       "22423           164762.190\n",
       "47566            98302.980\n",
       "85123A           97894.500\n",
       "85099B           92356.030\n",
       "                   ...    \n",
       "BANK CHARGES     -7175.639\n",
       "CRUK             -7933.430\n",
       "B               -11062.060\n",
       "M               -68674.190\n",
       "AMAZONFEE      -221520.500\n",
       "Name: TotalPrice, Length: 4070, dtype: float64"
      ]
     },
     "execution_count": 34,
     "metadata": {},
     "output_type": "execute_result"
    }
   ],
   "source": [
    "# Printing the highest revenue values\n",
    "\n",
    "total_price_df = customer_df\n",
    "total_price_df = customer_df.groupby('StockCode')['TotalPrice'].sum()\n",
    "total_price_df.sort_values(ascending = [False], inplace=True)\n",
    "total_price_df"
   ]
  },
  {
   "cell_type": "markdown",
   "id": "e37a661a",
   "metadata": {},
   "source": [
    "### Time Analysis"
   ]
  },
  {
   "cell_type": "code",
   "execution_count": 35,
   "id": "d86727fe",
   "metadata": {},
   "outputs": [
    {
     "name": "stdout",
     "output_type": "stream",
     "text": [
      "<class 'pandas.core.frame.DataFrame'>\n",
      "RangeIndex: 541909 entries, 0 to 541908\n",
      "Data columns (total 12 columns):\n",
      " #   Column                 Non-Null Count   Dtype         \n",
      "---  ------                 --------------   -----         \n",
      " 0   InvoiceNo              541909 non-null  object        \n",
      " 1   StockCode              541909 non-null  object        \n",
      " 2   Description            541909 non-null  object        \n",
      " 3   Quantity               541909 non-null  int64         \n",
      " 4   InvoiceDate            541909 non-null  datetime64[ns]\n",
      " 5   UnitPrice              541909 non-null  float64       \n",
      " 6   CustomerID             541909 non-null  int32         \n",
      " 7   Country                541909 non-null  object        \n",
      " 8   DaysSinceLastPurchase  541909 non-null  int64         \n",
      " 9   TotalPrice             541909 non-null  float64       \n",
      " 10  DayOfWeek              541909 non-null  object        \n",
      " 11  HourOfDay              541909 non-null  int64         \n",
      "dtypes: datetime64[ns](1), float64(2), int32(1), int64(3), object(5)\n",
      "memory usage: 47.5+ MB\n"
     ]
    }
   ],
   "source": [
    "# Extract day of the week and hour of the day from InvoiceDate\n",
    "customer_df['DayOfWeek'] = customer_df['InvoiceDate'].dt.day_name()\n",
    "customer_df['HourOfDay'] = customer_df['InvoiceDate'].dt.hour\n",
    "customer_df.info()"
   ]
  },
  {
   "cell_type": "code",
   "execution_count": 36,
   "id": "54b2b40c",
   "metadata": {},
   "outputs": [
    {
     "name": "stdout",
     "output_type": "stream",
     "text": [
      "Most orders by day of the week:\n",
      "Thursday     103857\n",
      "Tuesday      101808\n",
      "Monday        95111\n",
      "Wednesday     94565\n",
      "Friday        82193\n",
      "Sunday        64375\n",
      "Name: DayOfWeek, dtype: int64\n"
     ]
    }
   ],
   "source": [
    "# Question 1: Most orders by day of the week\n",
    "\n",
    "most_orders_by_day = customer_df['DayOfWeek'].value_counts().sort_values(ascending=False)\n",
    "print(\"Most orders by day of the week:\")\n",
    "print(most_orders_by_day)"
   ]
  },
  {
   "cell_type": "code",
   "execution_count": 37,
   "id": "45e88f44",
   "metadata": {},
   "outputs": [
    {
     "name": "stdout",
     "output_type": "stream",
     "text": [
      "\n",
      "Most orders by hour of the day:\n",
      "12    78709\n",
      "15    77519\n",
      "13    72259\n",
      "14    67471\n",
      "11    57674\n",
      "16    54516\n",
      "10    49037\n",
      "9     34332\n",
      "17    28509\n",
      "8      8909\n",
      "18     7974\n",
      "19     3705\n",
      "20      871\n",
      "7       383\n",
      "6        41\n",
      "Name: HourOfDay, dtype: int64\n"
     ]
    }
   ],
   "source": [
    "# Question 2: Most orders by hour of the day\n",
    "\n",
    "most_orders_by_hour = customer_df['HourOfDay'].value_counts().sort_values(ascending=False)\n",
    "print(\"\\nMost orders by hour of the day:\")\n",
    "print(most_orders_by_hour)"
   ]
  },
  {
   "cell_type": "code",
   "execution_count": 38,
   "id": "5224e5cf",
   "metadata": {},
   "outputs": [
    {
     "data": {
      "image/png": "[encoded data removed]",
      "text/plain": [
       "<Figure size 1008x360 with 2 Axes>"
      ]
     },
     "metadata": {
      "needs_background": "light"
     },
     "output_type": "display_data"
    }
   ],
   "source": [
    "# Plotting Most orders by day of the week using a line plot\n",
    "plt.figure(figsize=(14, 5))\n",
    "plt.subplot(1, 2, 1)\n",
    "most_orders_by_day.sort_index().plot(kind='line', marker='o', color='navy')\n",
    "plt.title('Most Orders by Day of the Week', fontsize = 14)\n",
    "plt.xlabel('Day of the Week', fontsize = 12)\n",
    "plt.ylabel('Number of Orders', fontsize = 12)\n",
    "plt.grid(True)\n",
    "\n",
    "# Plotting Most orders by hour of the day using a line plot\n",
    "plt.subplot(1, 2, 2)\n",
    "most_orders_by_hour.sort_index().plot(kind='line', marker='o', color='salmon')\n",
    "plt.title('Most Orders by Hour of the Day', fontsize = 14)\n",
    "plt.xlabel('Hour of the Day', fontsize = 12)\n",
    "plt.ylabel('Number of Orders', fontsize = 12)\n",
    "plt.grid(True)\n",
    "\n",
    "plt.tight_layout()\n",
    "plt.show()"
   ]
  },
  {
   "cell_type": "code",
   "execution_count": 39,
   "id": "d5679327",
   "metadata": {},
   "outputs": [
    {
     "name": "stdout",
     "output_type": "stream",
     "text": [
      "\n",
      "Average order processing time: 157.97 days\n"
     ]
    }
   ],
   "source": [
    "# Question 3: Average order processing time\n",
    "\n",
    "customer_df['OrderProcessingTime'] = (customer_df['InvoiceDate'].max() - customer_df['InvoiceDate']).dt.total_seconds() / (60 * 60 * 24)  # Convert to days\n",
    "average_order_processing_time = customer_df['OrderProcessingTime'].mean()\n",
    "print(f\"\\nAverage order processing time: {average_order_processing_time:.2f} days\")"
   ]
  },
  {
   "cell_type": "code",
   "execution_count": 40,
   "id": "20d2075f",
   "metadata": {},
   "outputs": [
    {
     "name": "stdout",
     "output_type": "stream",
     "text": [
      "\n",
      "Monthly order totals:\n",
      "InvoiceDate\n",
      "2010-12-31    42481\n",
      "2011-01-31    35147\n",
      "2011-02-28    27707\n",
      "2011-03-31    36748\n",
      "2011-04-30    29916\n",
      "2011-05-31    37030\n",
      "2011-06-30    36874\n",
      "2011-07-31    39518\n",
      "2011-08-31    35284\n",
      "2011-09-30    50226\n",
      "2011-10-31    60742\n",
      "2011-11-30    84711\n",
      "2011-12-31    25525\n",
      "Freq: M, Name: InvoiceNo, dtype: int64\n"
     ]
    }
   ],
   "source": [
    "# Question 4: Seasonal trends\n",
    "\n",
    "monthly_order_totals = customer_df.resample('M', on='InvoiceDate')['InvoiceNo'].count()\n",
    "print(\"\\nMonthly order totals:\")\n",
    "print(monthly_order_totals)"
   ]
  },
  {
   "cell_type": "code",
   "execution_count": 41,
   "id": "6c128fd0",
   "metadata": {},
   "outputs": [
    {
     "data": {
      "image/png": "[encoded data removed]",
      "text/plain": [
       "<Figure size 576x576 with 1 Axes>"
      ]
     },
     "metadata": {},
     "output_type": "display_data"
    }
   ],
   "source": [
    "# Plotting the Seasonal Trends\n",
    "\n",
    "# Format the datetime index to display month and year\n",
    "formatted_labels = monthly_order_totals.index.strftime('%b %Y')\n",
    "\n",
    "# Plotting the pie chart with improved display\n",
    "plt.figure(figsize=(8, 8))\n",
    "plt.pie(monthly_order_totals, labels=formatted_labels, autopct='%1.1f%%', startangle=90, colors=plt.cm.Paired.colors, wedgeprops=dict(width=1))\n",
    "plt.title('Monthly Order Totals (Pie Chart)')\n",
    "plt.show()"
   ]
  },
  {
   "cell_type": "markdown",
   "id": "9cd60921",
   "metadata": {},
   "source": [
    "### Geographical Analysis"
   ]
  },
  {
   "cell_type": "code",
   "execution_count": 49,
   "id": "16fe7fee",
   "metadata": {},
   "outputs": [
    {
     "name": "stdout",
     "output_type": "stream",
     "text": [
      "Top 5 countries with the highest number of orders:\n",
      "United Kingdom    495478\n",
      "Germany             9495\n",
      "France              8557\n",
      "EIRE                8196\n",
      "Spain               2533\n",
      "Name: Country, dtype: int64\n"
     ]
    }
   ],
   "source": [
    "# Determining the top 5 countries with the highest number of orders. \n",
    "\n",
    "top_5_countries = customer_df['Country'].value_counts().nlargest(5)\n",
    "print(\"Top 5 countries with the highest number of orders:\")\n",
    "print(top_5_countries)"
   ]
  },
  {
   "cell_type": "code",
   "execution_count": 70,
   "id": "4154fca9",
   "metadata": {},
   "outputs": [
    {
     "data": {
      "image/png": "[encoded data removed]",
      "text/plain": [
       "<Figure size 720x576 with 1 Axes>"
      ]
     },
     "metadata": {
      "needs_background": "light"
     },
     "output_type": "display_data"
    }
   ],
   "source": [
    "# Creating a bar plot of the top 5 countries\n",
    "plt.figure(figsize=(10,8))\n",
    "sns.barplot(x=top_5_countries.index, y=top_5_countries.values)\n",
    "\n",
    "# Adding the count on bars according to their country\n",
    "for i, bar in enumerate(plt.gca().patches):\n",
    "    plt.text(bar.get_x() + bar.get_width() / 2, (bar.get_height() + 6000) , top_5_countries.iloc[i], \n",
    "             ha='center', va='center', fontsize = 11)\n",
    "\n",
    "# labelling title\n",
    "plt.title('Top 5 Countries with Highest Number of Orders', fontsize = 16)\n",
    "plt.xlabel('Country', fontsize = 14)\n",
    "plt.ylabel('Number of Orders', fontsize = 14)\n",
    "plt.show()\n"
   ]
  },
  {
   "cell_type": "markdown",
   "id": "e551db1b",
   "metadata": {},
   "source": [
    "This code snippet uses the value_counts() function to count the occurrences of each country in the 'Country' column and then uses nlargest(5) to get the top 5 countries.\n",
    "The output shows the top 5 countries with the highest number of orders. The United Kingdom is at the top with 495,478 orders, followed by Germany with 9,495 orders, France with 8,557 orders, EIRE with 8,196 orders, and Spain with 2,533 orders."
   ]
  },
  {
   "cell_type": "code",
   "execution_count": 71,
   "id": "1d814d70",
   "metadata": {},
   "outputs": [
    {
     "name": "stdout",
     "output_type": "stream",
     "text": [
      "Correlation between the country and average order value: -0.038618756054183856\n"
     ]
    }
   ],
   "source": [
    "# Assessing if there is a correlation between the country of the customer and the average order value.\n",
    "\n",
    "average_order_value_by_country = customer_df.groupby('Country')['Quantity'].sum()\\\n",
    "* customer_df.groupby('Country')['UnitPrice'].mean()\n",
    "average_order_value_by_country = average_order_value_by_country / customer_df.groupby('Country')['Quantity'].sum()\n",
    "\n",
    "correlation = customer_df.groupby('Country')['Quantity'].sum().corr(average_order_value_by_country)\n",
    "print(\"Correlation between the country and average order value:\", correlation)"
   ]
  },
  {
   "cell_type": "code",
   "execution_count": 75,
   "id": "7130d3f0",
   "metadata": {},
   "outputs": [
    {
     "data": {
      "image/png": "[encoded data removed]",
      "text/plain": [
       "<Figure size 720x576 with 2 Axes>"
      ]
     },
     "metadata": {
      "needs_background": "light"
     },
     "output_type": "display_data"
    }
   ],
   "source": [
    "# Creating a DataFrame with 'Quantity' and 'Average Order Value' for each country\n",
    "correlation_df = pd.DataFrame({'Quantity': customer_df.groupby('Country')['Quantity'].sum(),\\\n",
    "                               'Average Order Value': average_order_value_by_country})\n",
    "\n",
    "# Creating a heatmap\n",
    "plt.figure(figsize=(10, 8))\n",
    "sns.heatmap(correlation_df.corr(), annot=True, cmap='coolwarm', linewidths=.5)\n",
    "plt.title('Correlation Heatmap between Quantity and Average Order Value by Country', fontsize = 14)\n",
    "plt.show()\n"
   ]
  },
  {
   "cell_type": "markdown",
   "id": "2560b972",
   "metadata": {},
   "source": [
    "Based on the output, there is **a weak negative correlation between the country of the customer and the average order value**. This means that, on average, customers from countries with higher total order quantity tend to have lower average order value.\n",
    "\n",
    "The correlation coefficient of -0.0386 indicates that the relationship between the two variables is very weak. In other words, it is difficult to predict the average order value of a customer based on their country alone.\n",
    "\n",
    "The heatmap visualization confirms this finding. The correlation between quantity and average order value is slightly negative for most countries, but the magnitude of the correlation is very small.\n",
    "\n",
    "There are a number of possible explanations for this weak negative correlation. One possibility is that customers from countries with higher total order quantity are more likely to be bulk buyers, who tend to purchase lower-priced items. Another possibility is that customers from these countries are more likely to be price-sensitive, and therefore tend to choose less expensive items.\n",
    "\n",
    "It is important to note that this correlation does not necessarily mean that there is a causal relationship between the two variables. It is possible that there is a third variable that is influencing both quantity and average order value, such as the level of economic development in the country.\n",
    "\n",
    "Overall, the output suggests that there is a weak negative correlation between the country of the customer and the average order value. However, the correlation is very small, and it is difficult to draw any firm conclusions about the causal relationship between the two variables."
   ]
  },
  {
   "cell_type": "markdown",
   "id": "4e1808d0",
   "metadata": {},
   "source": [
    "### Payment Analysis"
   ]
  },
  {
   "cell_type": "code",
   "execution_count": 76,
   "id": "e7eac01f",
   "metadata": {},
   "outputs": [
    {
     "data": {
      "text/html": [
       "<div>\n",
       "<style scoped>\n",
       "    .dataframe tbody tr th:only-of-type {\n",
       "        vertical-align: middle;\n",
       "    }\n",
       "\n",
       "    .dataframe tbody tr th {\n",
       "        vertical-align: top;\n",
       "    }\n",
       "\n",
       "    .dataframe thead th {\n",
       "        text-align: right;\n",
       "    }\n",
       "</style>\n",
       "<table border=\"1\" class=\"dataframe\">\n",
       "  <thead>\n",
       "    <tr style=\"text-align: right;\">\n",
       "      <th></th>\n",
       "      <th>InvoiceNo</th>\n",
       "      <th>StockCode</th>\n",
       "      <th>Description</th>\n",
       "      <th>Quantity</th>\n",
       "      <th>InvoiceDate</th>\n",
       "      <th>UnitPrice</th>\n",
       "      <th>CustomerID</th>\n",
       "      <th>Country</th>\n",
       "      <th>DaysSinceLastPurchase</th>\n",
       "      <th>TotalPrice</th>\n",
       "      <th>DayOfWeek</th>\n",
       "      <th>HourOfDay</th>\n",
       "      <th>OrderProcessingTime</th>\n",
       "      <th>product_category</th>\n",
       "      <th>profit</th>\n",
       "      <th>profit_margin</th>\n",
       "      <th>compound_score</th>\n",
       "      <th>PaymentMethod</th>\n",
       "    </tr>\n",
       "  </thead>\n",
       "  <tbody>\n",
       "    <tr>\n",
       "      <th>0</th>\n",
       "      <td>536365</td>\n",
       "      <td>85123A</td>\n",
       "      <td>WHITE HANGING HEART T-LIGHT HOLDER</td>\n",
       "      <td>6</td>\n",
       "      <td>2010-12-01 08:26:00</td>\n",
       "      <td>2.55</td>\n",
       "      <td>17850</td>\n",
       "      <td>United Kingdom</td>\n",
       "      <td>301</td>\n",
       "      <td>15.30</td>\n",
       "      <td>Wednesday</td>\n",
       "      <td>8</td>\n",
       "      <td>373.183333</td>\n",
       "      <td>W</td>\n",
       "      <td>15.30</td>\n",
       "      <td>1.0</td>\n",
       "      <td>0.0</td>\n",
       "      <td>Google Pay</td>\n",
       "    </tr>\n",
       "    <tr>\n",
       "      <th>1</th>\n",
       "      <td>536365</td>\n",
       "      <td>71053</td>\n",
       "      <td>WHITE METAL LANTERN</td>\n",
       "      <td>6</td>\n",
       "      <td>2010-12-01 08:26:00</td>\n",
       "      <td>3.39</td>\n",
       "      <td>17850</td>\n",
       "      <td>United Kingdom</td>\n",
       "      <td>301</td>\n",
       "      <td>20.34</td>\n",
       "      <td>Wednesday</td>\n",
       "      <td>8</td>\n",
       "      <td>373.183333</td>\n",
       "      <td>W</td>\n",
       "      <td>20.34</td>\n",
       "      <td>1.0</td>\n",
       "      <td>0.0</td>\n",
       "      <td>Credit or Debit</td>\n",
       "    </tr>\n",
       "    <tr>\n",
       "      <th>2</th>\n",
       "      <td>536365</td>\n",
       "      <td>84406B</td>\n",
       "      <td>CREAM CUPID HEARTS COAT HANGER</td>\n",
       "      <td>8</td>\n",
       "      <td>2010-12-01 08:26:00</td>\n",
       "      <td>2.75</td>\n",
       "      <td>17850</td>\n",
       "      <td>United Kingdom</td>\n",
       "      <td>301</td>\n",
       "      <td>22.00</td>\n",
       "      <td>Wednesday</td>\n",
       "      <td>8</td>\n",
       "      <td>373.183333</td>\n",
       "      <td>C</td>\n",
       "      <td>22.00</td>\n",
       "      <td>1.0</td>\n",
       "      <td>0.0</td>\n",
       "      <td>Google Pay</td>\n",
       "    </tr>\n",
       "    <tr>\n",
       "      <th>3</th>\n",
       "      <td>536365</td>\n",
       "      <td>84029G</td>\n",
       "      <td>KNITTED UNION FLAG HOT WATER BOTTLE</td>\n",
       "      <td>6</td>\n",
       "      <td>2010-12-01 08:26:00</td>\n",
       "      <td>3.39</td>\n",
       "      <td>17850</td>\n",
       "      <td>United Kingdom</td>\n",
       "      <td>301</td>\n",
       "      <td>20.34</td>\n",
       "      <td>Wednesday</td>\n",
       "      <td>8</td>\n",
       "      <td>373.183333</td>\n",
       "      <td>K</td>\n",
       "      <td>20.34</td>\n",
       "      <td>1.0</td>\n",
       "      <td>0.0</td>\n",
       "      <td>Credit or Debit</td>\n",
       "    </tr>\n",
       "    <tr>\n",
       "      <th>4</th>\n",
       "      <td>536365</td>\n",
       "      <td>84029E</td>\n",
       "      <td>RED WOOLLY HOTTIE WHITE HEART.</td>\n",
       "      <td>6</td>\n",
       "      <td>2010-12-01 08:26:00</td>\n",
       "      <td>3.39</td>\n",
       "      <td>17850</td>\n",
       "      <td>United Kingdom</td>\n",
       "      <td>301</td>\n",
       "      <td>20.34</td>\n",
       "      <td>Wednesday</td>\n",
       "      <td>8</td>\n",
       "      <td>373.183333</td>\n",
       "      <td>R</td>\n",
       "      <td>20.34</td>\n",
       "      <td>1.0</td>\n",
       "      <td>0.0</td>\n",
       "      <td>Google Pay</td>\n",
       "    </tr>\n",
       "  </tbody>\n",
       "</table>\n",
       "</div>"
      ],
      "text/plain": [
       "  InvoiceNo StockCode                          Description  Quantity  \\\n",
       "0    536365    85123A   WHITE HANGING HEART T-LIGHT HOLDER         6   \n",
       "1    536365     71053                  WHITE METAL LANTERN         6   \n",
       "2    536365    84406B       CREAM CUPID HEARTS COAT HANGER         8   \n",
       "3    536365    84029G  KNITTED UNION FLAG HOT WATER BOTTLE         6   \n",
       "4    536365    84029E       RED WOOLLY HOTTIE WHITE HEART.         6   \n",
       "\n",
       "          InvoiceDate  UnitPrice  CustomerID         Country  \\\n",
       "0 2010-12-01 08:26:00       2.55       17850  United Kingdom   \n",
       "1 2010-12-01 08:26:00       3.39       17850  United Kingdom   \n",
       "2 2010-12-01 08:26:00       2.75       17850  United Kingdom   \n",
       "3 2010-12-01 08:26:00       3.39       17850  United Kingdom   \n",
       "4 2010-12-01 08:26:00       3.39       17850  United Kingdom   \n",
       "\n",
       "   DaysSinceLastPurchase  TotalPrice  DayOfWeek  HourOfDay  \\\n",
       "0                    301       15.30  Wednesday          8   \n",
       "1                    301       20.34  Wednesday          8   \n",
       "2                    301       22.00  Wednesday          8   \n",
       "3                    301       20.34  Wednesday          8   \n",
       "4                    301       20.34  Wednesday          8   \n",
       "\n",
       "   OrderProcessingTime product_category  profit  profit_margin  \\\n",
       "0           373.183333                W   15.30            1.0   \n",
       "1           373.183333                W   20.34            1.0   \n",
       "2           373.183333                C   22.00            1.0   \n",
       "3           373.183333                K   20.34            1.0   \n",
       "4           373.183333                R   20.34            1.0   \n",
       "\n",
       "   compound_score    PaymentMethod  \n",
       "0             0.0       Google Pay  \n",
       "1             0.0  Credit or Debit  \n",
       "2             0.0       Google Pay  \n",
       "3             0.0  Credit or Debit  \n",
       "4             0.0       Google Pay  "
      ]
     },
     "execution_count": 76,
     "metadata": {},
     "output_type": "execute_result"
    }
   ],
   "source": [
    "# Due to the lack of existing data, we are generating Payment Information to randomize and perform analysis\n",
    "\n",
    "import pandas as pd\n",
    "import numpy as np\n",
    "\n",
    "# Assuming the payment methods are to be added to a column named 'PaymentMethod'\n",
    "payment_methods = ['Credit or Debit', 'Upi', 'Google Pay', 'Apple Pay', 'Internet Banking']\n",
    "\n",
    "# Add a new column 'PaymentMethod' with random payment methods\n",
    "customer_df['PaymentMethod'] = np.random.choice(payment_methods, size=len(customer_df))\n",
    "\n",
    "# Display the updated DataFrame\n",
    "customer_df.head()\n"
   ]
  },
  {
   "cell_type": "code",
   "execution_count": 77,
   "id": "61e2c1cf",
   "metadata": {},
   "outputs": [
    {
     "name": "stdout",
     "output_type": "stream",
     "text": [
      "Most Common Payment Method is:  Apple Pay\n"
     ]
    }
   ],
   "source": [
    "# Identifying the most common Payment Method\n",
    "\n",
    "payment_counts = customer_df['PaymentMethod'].value_counts().idxmax()\n",
    "\n",
    "# Display the most common payment methods\n",
    "print(\"Most Common Payment Method is: \",payment_counts)"
   ]
  },
  {
   "cell_type": "code",
   "execution_count": 85,
   "id": "844060ad",
   "metadata": {},
   "outputs": [
    {
     "data": {
      "image/png": "[encoded data removed]",
      "text/plain": [
       "<Figure size 720x576 with 1 Axes>"
      ]
     },
     "metadata": {
      "needs_background": "light"
     },
     "output_type": "display_data"
    }
   ],
   "source": [
    "# Assessing if there is a relationship between the payment method and the order amount.\n",
    "\n",
    "pd.options.mode.chained_assignment = None  # default='warn'\n",
    "columns_of_interest = ['PaymentMethod', 'Quantity', 'UnitPrice']\n",
    "selected_data = customer_df[columns_of_interest]\n",
    "\n",
    "# Calculating total order amount for each transaction\n",
    "selected_data['OrderAmount'] = selected_data['Quantity'] * selected_data['UnitPrice']\n",
    "\n",
    "# Grouping by payment method and calculate the mean order amount\n",
    "result = selected_data.groupby('PaymentMethod')['OrderAmount'].mean().reset_index()\n",
    "\n",
    "# Creating a bar chart to visualize the mean order amount for each payment method\n",
    "plt.figure(figsize=(10, 8))\n",
    "sns.barplot(x='PaymentMethod', y='OrderAmount', data=result, ci=None)\n",
    "plt.title('Mean Order Amount by Payment Method', fontsize = 16)\n",
    "plt.xlabel('Payment Method', fontsize = 14)\n",
    "plt.ylabel('Mean Order Amount', fontsize = 14)\n",
    "plt.show()"
   ]
  },
  {
   "cell_type": "markdown",
   "id": "ab0f018c",
   "metadata": {},
   "source": [
    "The data shows that customers who use Credit or Debit tend to make larger purchases than those who use other payment methods. This could be for a number of reasons, such as the convenience and ease of use of cards, or the fact that it is often used to purchase high-priced items.\n",
    "\n",
    " Google Pay users also tend to make larger purchases than those who use other payment methods, but not as large as those who use Internet Banking. This could be because Google Pay is also a convenient and easy-to-use payment method, and it is often used to purchase a variety of items, including both high-priced and low-priced items.\n",
    "\n",
    " Customers who use Apple Pay, Upi, and Internet Banking tend to make smaller purchases than those who use Google Pay. This could be because these payment methods are often used to pay for everyday expenses such as bills and groceries.\n",
    "\n",
    " It is important to note that these are just generalizations, and there will always be individual exceptions. However, the data does suggest that there is a relationship between payment method and order amount.\n",
    "\n",
    " Businesses that accept Credit or Debit cards and Google Pay may want to focus on marketing their high-priced items to customers who are likely to use these payment methods. Businesses that accept Apple Pay, Upi, and Internet Banking may want to focus on marketing their low-priced items to customers who are likely to use these payment methods.\n",
    "\n",
    " Overall, the data provides valuable insights into the relationship between payment method and order amount. Businesses can use this information to develop marketing and pricing strategies that are tailored to the specific payment methods that their customers prefer."
   ]
  },
  {
   "cell_type": "markdown",
   "id": "d6c20b14",
   "metadata": {},
   "source": [
    "### Customer Behaviour"
   ]
  },
  {
   "cell_type": "code",
   "execution_count": 86,
   "id": "d4e232a3",
   "metadata": {},
   "outputs": [
    {
     "name": "stdout",
     "output_type": "stream",
     "text": [
      "                           min                 max  duration\n",
      "CustomerID                                                  \n",
      "0          2010-12-01 11:52:00 2011-12-09 10:26:00       372\n",
      "12346      2011-01-18 10:01:00 2011-01-18 10:17:00         0\n",
      "12347      2010-12-07 14:57:00 2011-12-07 15:52:00       365\n",
      "12348      2010-12-16 19:09:00 2011-09-25 13:13:00       282\n",
      "12349      2011-11-21 09:51:00 2011-11-21 09:51:00         0\n",
      "...                        ...                 ...       ...\n",
      "18280      2011-03-07 09:52:00 2011-03-07 09:52:00         0\n",
      "18281      2011-06-12 10:53:00 2011-06-12 10:53:00         0\n",
      "18282      2011-08-05 13:35:00 2011-12-02 11:43:00       118\n",
      "18283      2011-01-06 14:14:00 2011-12-06 12:02:00       333\n",
      "18287      2011-05-22 10:39:00 2011-10-28 09:29:00       158\n",
      "\n",
      "[4373 rows x 3 columns]\n",
      "Average duration of customer activity: 133.44 days\n"
     ]
    }
   ],
   "source": [
    "# Calculating the duration of customer activity\n",
    "customer_activity = customer_df.groupby('CustomerID')['InvoiceDate'].agg(['min', 'max'])\n",
    "customer_activity['duration'] = (customer_activity['max'] - customer_activity['min']).dt.days\n",
    "\n",
    "\n",
    "# Calculating the average duration\n",
    "average_duration = customer_activity['duration'].mean()\n",
    "\n",
    "print(customer_activity)\n",
    "print(f\"Average duration of customer activity: {average_duration:.2f} days\")"
   ]
  },
  {
   "cell_type": "markdown",
   "id": "15c80579",
   "metadata": {},
   "source": [
    "The table above shows the duration of customer activity for each customer. The duration is calculated as the difference between the maximum and minimum invoice dates for each customer. The average duration of customer activity is 133.44 days.\n",
    "\n",
    " This means that the average customer is active for about 133 days over the course of the dataset. However, there is a lot of variation in the duration of customer activity, with some customers being active for only a few days and others being active for several years.\n",
    "\n",
    " The duration of customer activity can be a useful metric for understanding customer behavior. For example, businesses can use this metric to identify customers who are at risk of churn. They can also use it to develop targeted marketing campaigns to re-engage inactive customers.\n",
    "\n",
    " Here are some additional insights that can be drawn from the table:\n",
    "\n",
    "There are a few customers who have been active for a very long time (e.g., customer ID 0 has been active for over 372 days).\n",
    "There are also a few customers who have only been active for a very short time (e.g., customer ID 12346 has only been active for 0 days).\n",
    "The majority of customers have been active for a moderate amount of time (e.g., the average duration of customer activity is 133.44 days)."
   ]
  },
  {
   "cell_type": "code",
   "execution_count": 15,
   "id": "7ffbfe43",
   "metadata": {},
   "outputs": [
    {
     "data": {
      "text/html": [
       "<div>\n",
       "<style scoped>\n",
       "    .dataframe tbody tr th:only-of-type {\n",
       "        vertical-align: middle;\n",
       "    }\n",
       "\n",
       "    .dataframe tbody tr th {\n",
       "        vertical-align: top;\n",
       "    }\n",
       "\n",
       "    .dataframe thead th {\n",
       "        text-align: right;\n",
       "    }\n",
       "</style>\n",
       "<table border=\"1\" class=\"dataframe\">\n",
       "  <thead>\n",
       "    <tr style=\"text-align: right;\">\n",
       "      <th></th>\n",
       "      <th>Recency</th>\n",
       "      <th>Frequency</th>\n",
       "      <th>Monetary</th>\n",
       "    </tr>\n",
       "    <tr>\n",
       "      <th>CustomerID</th>\n",
       "      <th></th>\n",
       "      <th></th>\n",
       "      <th></th>\n",
       "    </tr>\n",
       "  </thead>\n",
       "  <tbody>\n",
       "    <tr>\n",
       "      <th>0</th>\n",
       "      <td>4375</td>\n",
       "      <td>135080</td>\n",
       "      <td>1090984.01</td>\n",
       "    </tr>\n",
       "    <tr>\n",
       "      <th>12346</th>\n",
       "      <td>4700</td>\n",
       "      <td>2</td>\n",
       "      <td>2.08</td>\n",
       "    </tr>\n",
       "    <tr>\n",
       "      <th>12347</th>\n",
       "      <td>4376</td>\n",
       "      <td>182</td>\n",
       "      <td>481.21</td>\n",
       "    </tr>\n",
       "    <tr>\n",
       "      <th>12348</th>\n",
       "      <td>4449</td>\n",
       "      <td>31</td>\n",
       "      <td>178.71</td>\n",
       "    </tr>\n",
       "    <tr>\n",
       "      <th>12349</th>\n",
       "      <td>4393</td>\n",
       "      <td>73</td>\n",
       "      <td>605.10</td>\n",
       "    </tr>\n",
       "  </tbody>\n",
       "</table>\n",
       "</div>"
      ],
      "text/plain": [
       "            Recency  Frequency    Monetary\n",
       "CustomerID                                \n",
       "0              4375     135080  1090984.01\n",
       "12346          4700          2        2.08\n",
       "12347          4376        182      481.21\n",
       "12348          4449         31      178.71\n",
       "12349          4393         73      605.10"
      ]
     },
     "execution_count": 15,
     "metadata": {},
     "output_type": "execute_result"
    }
   ],
   "source": [
    "import pandas as pd\n",
    "from datetime import datetime\n",
    "\n",
    "# Assessing if segments can be made based on Customer Purchase Activity\n",
    "\n",
    "customer_df['InvoiceDate'] = pd.to_datetime(customer_df['InvoiceDate'], format='%m/%d/%Y %H:%M')\n",
    "\n",
    "# Calculate Recency, Frequency, and Monetary values\n",
    "now = datetime.now()\n",
    "rfm_data = customer_df.groupby('CustomerID').agg({\n",
    "    'InvoiceDate': lambda x: (now - x.max()).days,\n",
    "    'InvoiceNo': 'count',\n",
    "    'UnitPrice': 'sum'\n",
    "})\n",
    "\n",
    "# Rename columns for clarity\n",
    "rfm_data.rename(columns={\n",
    "    'InvoiceDate': 'Recency',\n",
    "    'InvoiceNo': 'Frequency',\n",
    "    'UnitPrice': 'Monetary'\n",
    "}, inplace=True)\n",
    "\n",
    "rfm_data.head()"
   ]
  },
  {
   "cell_type": "code",
   "execution_count": 24,
   "id": "74a16a86",
   "metadata": {},
   "outputs": [
    {
     "data": {
      "image/png": "[encoded data removed]",
      "text/plain": [
       "<Figure size 1080x360 with 3 Axes>"
      ]
     },
     "metadata": {
      "needs_background": "light"
     },
     "output_type": "display_data"
    }
   ],
   "source": [
    "import matplotlib.pyplot as plt\n",
    "import seaborn as sns\n",
    "\n",
    "# Visualize RFM data using scatter plots\n",
    "plt.figure(figsize=(15, 5))\n",
    "\n",
    "# Scatter plot for Recency vs Frequency\n",
    "plt.subplot(1, 3, 1)\n",
    "sns.scatterplot(x='Recency', y='Frequency', data=rfm_data)\n",
    "plt.title('Recency vs Frequency')\n",
    "\n",
    "# Scatter plot for Frequency vs Monetary\n",
    "plt.subplot(1, 3, 2)\n",
    "sns.scatterplot(x='Frequency', y='Monetary', data=rfm_data)\n",
    "plt.title('Frequency vs Monetary')\n",
    "\n",
    "# Scatter plot for Recency vs Monetary\n",
    "plt.subplot(1, 3, 3)\n",
    "sns.scatterplot(x='Recency', y='Monetary', data=rfm_data)\n",
    "plt.title('Recency vs Monetary')\n",
    "\n",
    "plt.tight_layout()\n",
    "plt.show()"
   ]
  },
  {
   "cell_type": "markdown",
   "id": "69592d78",
   "metadata": {},
   "source": [
    "#### Recency vs Frequency:\n",
    "The scatter plot for Recency vs Frequency shows that customers with higher recency (i.e., customers who have purchased more recently) tend to have higher frequency (i.e., customers who have purchased more often). This suggests that customers who have purchased more recently are more likely to purchase again soon.\n",
    "\n",
    "##### This is likely due to a number of factors, such as:\n",
    "1) Customer satisfaction: Customers who are satisfied with their previous purchases are more likely to purchase again.\n",
    "2) Brand loyalty: Customers who are loyal to a particular brand are more likely to purchase from that brand again, even if it has been a while since their last purchase.\n",
    "3) Product engagement: Customers who are engaged with a particular product are more likely to purchase that product again, even if it has been a while since their last purchase.\n",
    " \n",
    "#### Frequency vs Monetary:\n",
    "The scatter plot for Frequency vs Monetary shows that customers with higher frequency (i.e., customers who have purchased more often) tend to have higher monetary value (i.e., customers who have spent more money). This suggests that customers who purchase more often are more valuable to the business.\n",
    "\n",
    "##### This is likely due to a number of factors, such as:\n",
    "1) Basket size: Customers who purchase more often tend to purchase larger baskets, which means they spend more money per purchase.\n",
    "2) Customer lifetime value: Customers who purchase more often are more likely to have a higher customer lifetime value (CLV), which is the total amount of money a customer is expected to spend over the course of their relationship with the business.\n",
    "3) Product loyalty: Customers who purchase more often are more likely to be loyal to a particular product, which means they are less likely to switch to a competitor.\n",
    " \n",
    " \n",
    "#### Recency vs Monetary:\n",
    "The scatter plot for Recency vs Monetary shows that there is a weak positive correlation between recency and monetary value. This suggests that customers who have purchased more recently are slightly more likely to spend more money.\n",
    "\n",
    "This is likely due to a number of factors, such as:\n",
    "1) New products: Customers who have purchased more recently may be more likely to purchase new products, which tend to be more expensive.\n",
    "2) Sales and promotions: Customers who have purchased more recently may be more likely to take advantage of sales and promotions, which can lead to higher spending.\n",
    "3) Customer satisfaction: Customers who are satisfied with their previous purchases may be more likely to spend more money on future purchases.\n",
    "\n",
    "#### Overall:\n",
    "The RFM scatter plots provide valuable insights into customer behavior. By understanding how recency, frequency, and monetary value are related, businesses can develop more effective marketing and customer retention strategies.\n",
    "\n",
    "#### Conclusion:\n",
    "The Customer Behaviour RFM scatter plots suggest that businesses should focus on customers who have high recency and frequency, as these customers are more likely to be valuable and engaged customers. Businesses should also focus on customers who have high recency and monetary value, as these customers are more likely to be satisfied with their previous purchases and more likely to take advantage of sales and promotions."
   ]
  },
  {
   "cell_type": "markdown",
   "id": "24c8b4aa",
   "metadata": {},
   "source": [
    "### Returns & Refunds"
   ]
  },
  {
   "cell_type": "code",
   "execution_count": 43,
   "id": "d945479c",
   "metadata": {},
   "outputs": [
    {
     "name": "stdout",
     "output_type": "stream",
     "text": [
      "Percentage of orders with returns or refunds: 1.96%\n"
     ]
    }
   ],
   "source": [
    "# The percentage of orders that have experienced returns or refunds. \n",
    "\n",
    "percentage_returns_refunds = (len(customer_df[customer_df['Quantity'] < 0]) / len(customer_df)) * 100\n",
    "print(f\"Percentage of orders with returns or refunds: {percentage_returns_refunds:.2f}%\")"
   ]
  },
  {
   "cell_type": "code",
   "execution_count": 44,
   "id": "f93a45b6",
   "metadata": {},
   "outputs": [
    {
     "name": "stdout",
     "output_type": "stream",
     "text": [
      "\n",
      "Chi-square value: 19608.078329132288\n",
      "P-value: 0.0\n",
      "There is a significant correlation between product category and returns.\n"
     ]
    }
   ],
   "source": [
    "# Correlation Analysis: Assessing the correlation between the product category and the likelihood of returns.\n",
    "# Using the chi-square test to assess significance.\n",
    "\n",
    "# create a product category based on the first letter of the 'Description'\n",
    "customer_df['product_category'] = customer_df['Description'].str[0]\n",
    "\n",
    "# Create a contingency table to analyze the relationship between product category and returns\n",
    "contingency_table = pd.crosstab(customer_df['product_category'], customer_df['Quantity'] < 0)\n",
    "\n",
    "# Use chi-square test for independence to check if there is a significant correlation\n",
    "from scipy.stats import chi2_contingency\n",
    "\n",
    "chi2, p, _, _ = chi2_contingency(contingency_table)\n",
    "\n",
    "print(f\"\\nChi-square value: {chi2}\")\n",
    "print(f\"P-value: {p}\")\n",
    "\n",
    "# Check if the p-value is less than a significance level (e.g., 0.05) to determine if there is a significant correlation\n",
    "if p < 0.05:\n",
    "    print(\"There is a significant correlation between product category and returns.\")\n",
    "else:\n",
    "    print(\"There is no significant correlation between product category and returns.\")"
   ]
  },
  {
   "cell_type": "markdown",
   "id": "75fa1d14",
   "metadata": {},
   "source": [
    "### Profitability Analysis"
   ]
  },
  {
   "cell_type": "code",
   "execution_count": 45,
   "id": "cb2180b3",
   "metadata": {},
   "outputs": [
    {
     "name": "stdout",
     "output_type": "stream",
     "text": [
      "Total profit generated by the company: 9747747.93\n"
     ]
    }
   ],
   "source": [
    "# Calculating the total profit generated by the company during the dataset's time period. \n",
    "\n",
    "# Calculating profit for each item by subtracting 'UnitCost'\n",
    "customer_df['profit'] = customer_df['Quantity'] * (customer_df['UnitPrice'] - customer_df.get('UnitCost', 0))\n",
    "\n",
    "# Calculate total profit\n",
    "total_profit = customer_df['profit'].sum()\n",
    "print(f\"Total profit generated by the company: {total_profit:.2f}\")\n",
    "\n",
    "# Calculate profit margin for each product\n",
    "customer_df['profit_margin'] = customer_df['profit'] / (customer_df['Quantity'] * customer_df['UnitPrice'])\n",
    "\n",
    "# Group by product and calculate mean profit margin for each product\n",
    "product_profit_margin = customer_df.groupby('Description')['profit_margin'].mean()\n"
   ]
  },
  {
   "cell_type": "code",
   "execution_count": 46,
   "id": "50699fda",
   "metadata": {},
   "outputs": [
    {
     "name": "stdout",
     "output_type": "stream",
     "text": [
      "\n",
      "Top 5 products with the highest profit margins:\n",
      "Description\n",
      " 4 PURPLE FLOCK DINNER CANDLES    1.0\n",
      "PORCELAIN HANGING BELL SMALL      1.0\n",
      "POLYESTER FILLER PAD 65CMx65CM    1.0\n",
      "POMPOM CURTAIN                    1.0\n",
      "POP ART PUSH DOWN RUBBER          1.0\n",
      "Name: profit_margin, dtype: float64\n"
     ]
    }
   ],
   "source": [
    "# Finding the top 5 products with the highest profit margins.\n",
    "\n",
    "# Sort the products by profit margin in descending order and select the top 5\n",
    "top_5_products = product_profit_margin.sort_values(ascending=False).head(5)\n",
    "\n",
    "print(\"\\nTop 5 products with the highest profit margins:\")\n",
    "print(top_5_products)"
   ]
  },
  {
   "cell_type": "markdown",
   "id": "59a93c2b",
   "metadata": {},
   "source": [
    "### Customer Satisfaction"
   ]
  },
  {
   "cell_type": "code",
   "execution_count": 37,
   "id": "ff826d5e",
   "metadata": {},
   "outputs": [
    {
     "data": {
      "text/html": [
       "<div>\n",
       "<style scoped>\n",
       "    .dataframe tbody tr th:only-of-type {\n",
       "        vertical-align: middle;\n",
       "    }\n",
       "\n",
       "    .dataframe tbody tr th {\n",
       "        vertical-align: top;\n",
       "    }\n",
       "\n",
       "    .dataframe thead th {\n",
       "        text-align: right;\n",
       "    }\n",
       "</style>\n",
       "<table border=\"1\" class=\"dataframe\">\n",
       "  <thead>\n",
       "    <tr style=\"text-align: right;\">\n",
       "      <th></th>\n",
       "      <th>InvoiceNo</th>\n",
       "      <th>StockCode</th>\n",
       "      <th>Description</th>\n",
       "      <th>Quantity</th>\n",
       "      <th>InvoiceDate</th>\n",
       "      <th>UnitPrice</th>\n",
       "      <th>CustomerID</th>\n",
       "      <th>Country</th>\n",
       "      <th>rating</th>\n",
       "      <th>sentiment</th>\n",
       "      <th>sentiment_label</th>\n",
       "      <th>Rating</th>\n",
       "      <th>SentimentLabel</th>\n",
       "    </tr>\n",
       "  </thead>\n",
       "  <tbody>\n",
       "    <tr>\n",
       "      <th>0</th>\n",
       "      <td>536365</td>\n",
       "      <td>85123A</td>\n",
       "      <td>WHITE HANGING HEART T-LIGHT HOLDER</td>\n",
       "      <td>6</td>\n",
       "      <td>12/1/2010 8:26</td>\n",
       "      <td>2.55</td>\n",
       "      <td>17850.0</td>\n",
       "      <td>United Kingdom</td>\n",
       "      <td>3.5</td>\n",
       "      <td>0.0</td>\n",
       "      <td>Neutral</td>\n",
       "      <td>1.7</td>\n",
       "      <td>Negative</td>\n",
       "    </tr>\n",
       "    <tr>\n",
       "      <th>1</th>\n",
       "      <td>536365</td>\n",
       "      <td>71053</td>\n",
       "      <td>WHITE METAL LANTERN</td>\n",
       "      <td>6</td>\n",
       "      <td>12/1/2010 8:26</td>\n",
       "      <td>3.39</td>\n",
       "      <td>17850.0</td>\n",
       "      <td>United Kingdom</td>\n",
       "      <td>4.0</td>\n",
       "      <td>0.0</td>\n",
       "      <td>Neutral</td>\n",
       "      <td>4.4</td>\n",
       "      <td>Positive</td>\n",
       "    </tr>\n",
       "    <tr>\n",
       "      <th>2</th>\n",
       "      <td>536365</td>\n",
       "      <td>84406B</td>\n",
       "      <td>CREAM CUPID HEARTS COAT HANGER</td>\n",
       "      <td>8</td>\n",
       "      <td>12/1/2010 8:26</td>\n",
       "      <td>2.75</td>\n",
       "      <td>17850.0</td>\n",
       "      <td>United Kingdom</td>\n",
       "      <td>4.5</td>\n",
       "      <td>0.0</td>\n",
       "      <td>Neutral</td>\n",
       "      <td>4.1</td>\n",
       "      <td>Positive</td>\n",
       "    </tr>\n",
       "    <tr>\n",
       "      <th>3</th>\n",
       "      <td>536365</td>\n",
       "      <td>84029G</td>\n",
       "      <td>KNITTED UNION FLAG HOT WATER BOTTLE</td>\n",
       "      <td>6</td>\n",
       "      <td>12/1/2010 8:26</td>\n",
       "      <td>3.39</td>\n",
       "      <td>17850.0</td>\n",
       "      <td>United Kingdom</td>\n",
       "      <td>4.0</td>\n",
       "      <td>0.0</td>\n",
       "      <td>Neutral</td>\n",
       "      <td>3.2</td>\n",
       "      <td>Neutral</td>\n",
       "    </tr>\n",
       "    <tr>\n",
       "      <th>4</th>\n",
       "      <td>536365</td>\n",
       "      <td>84029E</td>\n",
       "      <td>RED WOOLLY HOTTIE WHITE HEART.</td>\n",
       "      <td>6</td>\n",
       "      <td>12/1/2010 8:26</td>\n",
       "      <td>3.39</td>\n",
       "      <td>17850.0</td>\n",
       "      <td>United Kingdom</td>\n",
       "      <td>2.0</td>\n",
       "      <td>0.0</td>\n",
       "      <td>Neutral</td>\n",
       "      <td>1.5</td>\n",
       "      <td>Negative</td>\n",
       "    </tr>\n",
       "  </tbody>\n",
       "</table>\n",
       "</div>"
      ],
      "text/plain": [
       "  InvoiceNo StockCode                          Description  Quantity  \\\n",
       "0    536365    85123A   WHITE HANGING HEART T-LIGHT HOLDER         6   \n",
       "1    536365     71053                  WHITE METAL LANTERN         6   \n",
       "2    536365    84406B       CREAM CUPID HEARTS COAT HANGER         8   \n",
       "3    536365    84029G  KNITTED UNION FLAG HOT WATER BOTTLE         6   \n",
       "4    536365    84029E       RED WOOLLY HOTTIE WHITE HEART.         6   \n",
       "\n",
       "      InvoiceDate  UnitPrice  CustomerID         Country  rating  sentiment  \\\n",
       "0  12/1/2010 8:26       2.55     17850.0  United Kingdom     3.5        0.0   \n",
       "1  12/1/2010 8:26       3.39     17850.0  United Kingdom     4.0        0.0   \n",
       "2  12/1/2010 8:26       2.75     17850.0  United Kingdom     4.5        0.0   \n",
       "3  12/1/2010 8:26       3.39     17850.0  United Kingdom     4.0        0.0   \n",
       "4  12/1/2010 8:26       3.39     17850.0  United Kingdom     2.0        0.0   \n",
       "\n",
       "  sentiment_label  Rating SentimentLabel  \n",
       "0         Neutral     1.7       Negative  \n",
       "1         Neutral     4.4       Positive  \n",
       "2         Neutral     4.1       Positive  \n",
       "3         Neutral     3.2        Neutral  \n",
       "4         Neutral     1.5       Negative  "
      ]
     },
     "execution_count": 37,
     "metadata": {},
     "output_type": "execute_result"
    }
   ],
   "source": [
    "import pandas as pd\n",
    "import numpy as np\n",
    "from nltk.sentiment.vader import SentimentIntensityAnalyzer\n",
    "import matplotlib.pyplot as plt\n",
    "import seaborn as sns\n",
    "\n",
    "# Function to generate random ratings\n",
    "def generate_random_ratings(n):\n",
    "    ratings = list()\n",
    "    for i in range(n):\n",
    "        ratings.append(round(np.random.uniform(1.0,5.0), 1))\n",
    "    return ratings\n",
    "\n",
    "# Function to assign sentiment labels based on ratings\n",
    "def assign_sentiment_labels(ratings, threshold_positive=4, threshold_negative=2):\n",
    "    sentiment_labels = list()\n",
    "    for r in ratings:\n",
    "        if(r >= 4):\n",
    "            sentiment_labels.append('Positive')\n",
    "        elif(r < 4 and r > 2):\n",
    "            sentiment_labels.append('Neutral')\n",
    "        else:\n",
    "            sentiment_labels.append('Negative')\n",
    "    return sentiment_labels\n",
    "\n",
    "\n",
    "# Number of ratings\n",
    "num_ratings = customer_df.shape[0]\n",
    "\n",
    "# Generate random ratings\n",
    "ratings = generate_random_ratings(num_ratings)\n",
    "\n",
    "# Assign sentiment labels based on ratings\n",
    "sentiment_labels = assign_sentiment_labels(ratings)\n",
    "\n",
    "customer_df['Rating'] = ratings\n",
    "customer_df['SentimentLabel'] = sentiment_labels\n",
    "\n",
    "customer_df.head()"
   ]
  },
  {
   "cell_type": "code",
   "execution_count": 39,
   "id": "c7728a63",
   "metadata": {},
   "outputs": [
    {
     "data": {
      "image/png": "[encoded data removed]",
      "text/plain": [
       "<Figure size 720x576 with 1 Axes>"
      ]
     },
     "metadata": {
      "needs_background": "light"
     },
     "output_type": "display_data"
    }
   ],
   "source": [
    "# Visualize sentiment analysis with annotations above the bars\n",
    "plt.figure(figsize=(10, 8))\n",
    "ax = sns.countplot(x='Sentiment', data=df_ratings, order=['Positive', 'Neutral', 'Negative'])\n",
    "plt.title('Sentiment Analysis of Ratings', fontsize=16)\n",
    "plt.xlabel('Sentiment', fontsize=14)\n",
    "plt.ylabel('Frequency', fontsize=14)\n",
    "\n",
    "# Annotate the counts above the bars\n",
    "for p in ax.patches:\n",
    "    ax.annotate(f'{p.get_height()}', (p.get_x() + p.get_width() / 2., p.get_height()),\n",
    "                ha='center', va='center', xytext=(0, 10), textcoords='offset points', fontsize=11)\n",
    "\n",
    "plt.show()"
   ]
  },
  {
   "cell_type": "markdown",
   "id": "177f20be",
   "metadata": {},
   "source": [
    "Based on the provided counts of Neutral, Negative, and Positive reviews:\n",
    "\n",
    "1. **Neutral: 257,093 reviews**\n",
    "   - The high count of neutral reviews suggests that a significant portion of the feedback falls in the middle ground, neither overly positive nor negative.\n",
    "   - Neutral reviews may indicate that customers have mixed feelings or are relatively indifferent about the products or services.\n",
    "\n",
    "2. **Negative: 142,187 reviews**\n",
    "   - The presence of a substantial number of negative reviews could be a cause for concern. It's essential to investigate the specific issues or reasons behind the negative feedback.\n",
    "   - Negative reviews might highlight areas that need improvement, such as product quality, customer service, or other aspects of the business.\n",
    "\n",
    "3. **Positive: 142,629 reviews**\n",
    "   - Similar to the negative reviews, the high count of positive reviews is a positive indicator. Customers seem to have had favorable experiences with the products or services.\n",
    "   - Positive reviews can serve as a valuable asset for the business, contributing to its reputation and potentially attracting new customers.\n",
    "\n",
    "**Trends and Recommendations:**\n",
    "- The high count of neutral reviews suggests that there might be opportunities for the business to enhance customer satisfaction or improve specific aspects of its offerings.\n",
    "- Analyzing the content of both negative and positive reviews can provide detailed insights into customers' expectations and preferences.\n",
    "- Addressing issues raised in negative reviews and acknowledging positive feedback can contribute to overall customer satisfaction and loyalty.\n",
    "- Periodic sentiment analysis over time can help track trends and identify whether changes in products, services, or business practices are positively impacting customer sentiment.\n"
   ]
  },
  {
   "cell_type": "code",
   "execution_count": null,
   "id": "c16f1a37",
   "metadata": {},
   "outputs": [],
   "source": []
  }
 ],
 "metadata": {
  "kernelspec": {
   "display_name": "Python 3",
   "language": "python",
   "name": "python3"
  },
  "language_info": {
   "codemirror_mode": {
    "name": "ipython",
    "version": 3
   },
   "file_extension": ".py",
   "mimetype": "text/x-python",
   "name": "python",
   "nbconvert_exporter": "python",
   "pygments_lexer": "ipython3",
   "version": "3.7.10"
  }
 },
 "nbformat": 4,
 "nbformat_minor": 5
}
